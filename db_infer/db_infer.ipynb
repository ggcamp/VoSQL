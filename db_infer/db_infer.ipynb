{
 "cells": [
  {
   "cell_type": "code",
   "execution_count": 1,
   "metadata": {},
   "outputs": [],
   "source": [
    "import json\n",
    "import pickle\n",
    "import random\n",
    "import numpy as np\n",
    "import torch\n",
    "import torch.nn as nn\n",
    "from transformers import BertTokenizer, BertModel\n",
    "from sklearn.model_selection import train_test_split\n",
    "from tqdm import tqdm"
   ]
  },
  {
   "cell_type": "code",
   "execution_count": 2,
   "metadata": {},
   "outputs": [],
   "source": [
    "torch.manual_seed(2333)\n",
    "torch.cuda.manual_seed(2333)\n",
    "np.random.seed(2333)\n",
    "random.seed(2333)\n",
    "torch.backends.cudnn.deterministic = True"
   ]
  },
  {
   "cell_type": "code",
   "execution_count": 3,
   "metadata": {},
   "outputs": [],
   "source": [
    "device = torch.device(\"cuda\") if torch.cuda.is_available() else torch.device(\"cpu\")"
   ]
  },
  {
   "cell_type": "code",
   "execution_count": 4,
   "metadata": {},
   "outputs": [],
   "source": [
    "tokenizer = BertTokenizer.from_pretrained('bert-base-uncased')"
   ]
  },
  {
   "cell_type": "code",
   "execution_count": 5,
   "metadata": {},
   "outputs": [],
   "source": [
    "DB_tok = pickle.load(open(\"save/DB_tok\", \"rb\"))\n",
    "# DB_tok = {db: DB_tok[db] for db in [\"college_1\", \"book_2\", \"company_employee\", \"flight_1\", \"concert_singer\"]}"
   ]
  },
  {
   "cell_type": "code",
   "execution_count": 6,
   "metadata": {},
   "outputs": [],
   "source": [
    "query_size = 380\n",
    "bert_size = 768"
   ]
  },
  {
   "cell_type": "code",
   "execution_count": 7,
   "metadata": {},
   "outputs": [],
   "source": [
    "def align(x, size):\n",
    "    if len(x) < size:\n",
    "        return x + [0] * (size - len(x))\n",
    "    return x[:size - 1] + [102]"
   ]
  },
  {
   "cell_type": "code",
   "execution_count": 8,
   "metadata": {},
   "outputs": [],
   "source": [
    "def query2tok(q):\n",
    "    q = \"[CLS] \" + q + \" [SEP]\"\n",
    "    return align(tokenizer.convert_tokens_to_ids(tokenizer.tokenize(q)), query_size)"
   ]
  },
  {
   "cell_type": "code",
   "execution_count": 9,
   "metadata": {},
   "outputs": [],
   "source": [
    "class net(nn.Module):\n",
    "    def __init__(self):\n",
    "        super(net, self).__init__()\n",
    "        self.MD = nn.ModuleDict({\n",
    "            \"encoder\": BertModel.from_pretrained('bert-base-uncased'),\n",
    "            # \"query_encoder\": BertModel.from_pretrained('bert-base-uncased'),\n",
    "            # \"db_encoder\": BertModel.from_pretrained('bert-base-uncased'),\n",
    "            \"linear1\": nn.Linear(bert_size, 768),\n",
    "            \"linear2\": nn.Linear(768, 300),\n",
    "            \"linear3\": nn.Linear(300, 1)\n",
    "        })\n",
    "        \n",
    "        for submodel in [self.MD[\"encoder\"]]:\n",
    "            for param in submodel.parameters():\n",
    "                param.requires_grad = False\n",
    "        \n",
    "    \n",
    "    def forward(self, x):\n",
    "        db, tok = x\n",
    "        x = self.MD['encoder'](db, token_type_ids=tok)\n",
    "        # Q = self.MD[\"query_encoder\"](query)\n",
    "        # D = self.MD[\"db_encoder\"](db)\n",
    "#         x = torch.sum(Q[0][:, 0, :] * D[0][:, 0, :], axis=-1)\n",
    "#         print(x)\n",
    "        # x = torch.cat([Q[0][:, 0, :], D[0][:, 0, :]], -1)\n",
    "        x = torch.nn.functional.relu(self.MD[\"linear1\"](x[0][:, 0, :]))\n",
    "        x = torch.nn.functional.relu(self.MD[\"linear2\"](x))\n",
    "        x = self.MD[\"linear3\"](x)\n",
    "        return torch.sigmoid(x).view(-1)"
   ]
  },
  {
   "cell_type": "code",
   "execution_count": 10,
   "metadata": {},
   "outputs": [
    {
     "data": {
      "text/plain": [
       "<All keys matched successfully>"
      ]
     },
     "execution_count": 10,
     "metadata": {},
     "output_type": "execute_result"
    }
   ],
   "source": [
    "model = net().to(device)\n",
    "model.load_state_dict(torch.load(\"save/best_model.pt\"))"
   ]
  },
  {
   "cell_type": "code",
   "execution_count": 16,
   "metadata": {},
   "outputs": [],
   "source": [
    "def db_infer(q):\n",
    "    DB_score = {}\n",
    "    q_tok = query2tok(q)\n",
    "    for db_name, db_tok in DB_tok.items():\n",
    "        if db_name not in ['college_1', 'book_2', 'company_employee', 'flight_1', 'concert_singer']:\n",
    "            continue\n",
    "        X = [(q_tok, db_tok)]\n",
    "        seq = torch.tensor([x[0] + x[1] for x in X]).to(device)\n",
    "        mask = torch.tensor([[0] * len(x[0]) + [1] * len(x[1]) for x in X]).to(device)\n",
    "        model.eval()\n",
    "        y_pred = model((seq, mask)).item()\n",
    "        DB_score[db_name] = y_pred\n",
    "#         print(db_name, y_pred)\n",
    "    db = max(DB_score, key=lambda d: DB_score[d])\n",
    "    return db, DB_score[db]"
   ]
  },
  {
   "cell_type": "code",
   "execution_count": 17,
   "metadata": {},
   "outputs": [
    {
     "data": {
      "text/plain": [
       "('concert_singer', 0.6469578146934509)"
      ]
     },
     "execution_count": 17,
     "metadata": {},
     "output_type": "execute_result"
    }
   ],
   "source": [
    "query = \"How many singers do we have?\"\n",
    "db_infer(query)"
   ]
  },
  {
   "cell_type": "code",
   "execution_count": null,
   "metadata": {},
   "outputs": [
    {
     "name": "stdout",
     "output_type": "stream",
     "text": [
      " * Serving Flask app \"__main__\" (lazy loading)\n",
      " * Environment: production\n",
      "   WARNING: This is a development server. Do not use it in a production deployment.\n",
      "   Use a production WSGI server instead.\n",
      " * Debug mode: off\n"
     ]
    },
    {
     "name": "stderr",
     "output_type": "stream",
     "text": [
      " * Running on http://0.0.0.0:443/ (Press CTRL+C to quit)\n",
      "184.105.247.196 - - [16/Jan/2020 03:23:59] code 400, message Bad request syntax ('\\x16\\x03\\x01\\x00\\x9a\\x01\\x00\\x00\\x96\\x03\\x03(Dwn\\x89ùq§³]P¸\\xa0\"\\x96ê¢î\\x9b\\x12Zôú4\\x1cÇ~Ó5¯ÖÜ\\x00\\x00\\x1aÀ/À+À\\x11À\\x07À\\x13À\\tÀ\\x14À')\n",
      "184.105.247.196 - - [16/Jan/2020 03:23:59] \"\u0016\u0003\u0001\u0000\u0001\u0000\u0000\u0003\u0003(Dwnùq§³]P¸ \"ê¢î\u0012Zôú4\u001c",
      "Ç~Ó5¯ÖÜ\u0000\u0000\u001aÀ/À+À\u0011À\u0007À\u0013À\tÀ\u0014À\" HTTPStatus.BAD_REQUEST -\n",
      "203.208.61.68 - - [16/Jan/2020 03:30:00] \"GET /query?q=show+me+the+list+of+authors HTTP/1.1\" 200 -\n",
      "203.208.61.68 - - [16/Jan/2020 03:30:20] \"GET /query?q=show+me+the+author+of+the+cheapest+book HTTP/1.1\" 200 -\n",
      "203.208.61.68 - - [16/Jan/2020 03:31:41] \"GET /query?q=show+me+the+author+of+the+cheapest+book HTTP/1.1\" 200 -\n",
      "203.208.61.68 - - [16/Jan/2020 03:52:42] \"GET /query?q=What+is+the+title+of+the+most+expensive+book%3F HTTP/1.1\" 200 -\n",
      "203.208.61.68 - - [16/Jan/2020 03:52:50] \"GET /query?q=How+many+books+has+each+author+written%3F HTTP/1.1\" 200 -\n",
      "203.208.61.68 - - [16/Jan/2020 03:53:25] \"GET /query?q=How+many+books+has+each+writer+written%3F HTTP/1.1\" 200 -\n",
      "203.208.61.68 - - [16/Jan/2020 03:53:38] \"GET /query?q=Show+me+the+student+name+with+highest+GPA%3F HTTP/1.1\" 200 -\n",
      "203.208.61.68 - - [16/Jan/2020 03:53:48] \"GET /query?q=What%27s+the+total+price+of+all+books%3F HTTP/1.1\" 200 -\n",
      "203.208.61.68 - - [16/Jan/2020 03:53:56] \"GET /query?q=What%27s+the+average+salary+of+all+workers%3F HTTP/1.1\" 200 -\n",
      "208.93.153.177 - - [16/Jan/2020 03:54:13] code 400, message Bad request version ('sé\\x16sÂ\\x9f\\x00')\n",
      "208.93.153.177 - - [16/Jan/2020 03:54:13] \".\u0001\u0000\u0002\u0000\u0015\u0000\u0000\u0000\u0010\u0005\u0000\u0003\u0000\u0001\u0000\u0007\u0000À\u0006\u0000@\u0004\u0000\u0002\u0000¤Õ}\u001d",
      "®Ù8Â\tsé\u0016sÂ\u0000\" HTTPStatus.BAD_REQUEST -\n",
      "208.93.153.177 - - [16/Jan/2020 03:54:13] code 400, message Bad request version ('é\\x8a\\x98\\x16«J³Â\\x00\\x00¢À\\x14À')\n",
      "208.93.153.177 - - [16/Jan/2020 03:54:13] \"\u0016\u0003\u0000\u0000Í\u0001\u0000\u0000É\u0003\u0000pö0I\u001fBokVÔ¬ýôÇ<Î",
      "é\u0016«J³Â\u0000\u0000¢À\u0014À\" HTTPStatus.BAD_REQUEST -\n",
      "208.93.153.177 - - [16/Jan/2020 03:54:14] code 400, message Bad request version ('^\\x9fñ`×ÌD\\x00\\x00¢À\\x14À')\n",
      "208.93.153.177 - - [16/Jan/2020 03:54:14] \"\u0016\u0003\u0001\u0002\u0000\u0001\u0000\u0001ü\u0003\u0001%¥+N¸\u001c",
      "Y,T\u0018Ðø62+\u0006y\u00064öc¬",
      "^ñ`×ÌD\u0000\u0000¢À\u0014À\" HTTPStatus.BAD_REQUEST -\n",
      "208.93.153.177 - - [16/Jan/2020 03:54:15] code 400, message Bad request version ('R·È÷ä')\n",
      "208.93.153.177 - - [16/Jan/2020 03:54:15] \"\u0016\u0003\u0001\u0002\u0000\u0001\u0000\u0001ü\u0003\u00026\u0004Zs;\u0004\u001bÍ\u001e",
      "u®à;I} R·È÷ä\" HTTPStatus.BAD_REQUEST -\n",
      "203.208.61.68 - - [16/Jan/2020 03:57:48] \"GET /query?q=How+many+singers+from+each+country%3F HTTP/1.1\" 200 -\n",
      "203.208.61.68 - - [16/Jan/2020 03:58:07] \"GET /query?q=How+many+singer+from+each+country%3F HTTP/1.1\" 200 -\n",
      "203.208.61.68 - - [16/Jan/2020 03:58:38] \"GET /query?q=Show+me+the+student+name+with+highest+GPA%3F HTTP/1.1\" 200 -\n",
      "203.208.61.68 - - [16/Jan/2020 04:02:24] \"GET /query?q=What%27s+the+average+salary+of+all+workers%3F HTTP/1.1\" 200 -\n",
      "203.208.61.68 - - [16/Jan/2020 04:02:31] \"GET /query?q=What%27s+the+total+price+of+all+books%3F HTTP/1.1\" 200 -\n",
      "203.208.61.68 - - [16/Jan/2020 04:06:56] \"GET /query?q= HTTP/1.1\" 200 -\n",
      "203.208.61.68 - - [16/Jan/2020 04:08:47] \"GET /query?q=What%27s+the+average+salary+of+all+workers%3F HTTP/1.1\" 200 -\n",
      "203.208.61.68 - - [16/Jan/2020 05:09:54] \"GET /query?q=What%27s+the+average+salary+of+all+workers%3F HTTP/1.1\" 200 -\n",
      "119.3.148.45 - - [16/Jan/2020 05:51:43] \"GET /query?q=fuck%20you&db=college_1 HTTP/1.0\" 200 -\n",
      "209.17.96.26 - - [16/Jan/2020 05:51:51] code 400, message Bad request syntax ('\\x16\\x03\\x02\\x01o\\x01\\x00\\x01k\\x03\\x02RHÅ\\x1a#÷:Nßâ´\\x82/ÿ\\tT\\x9f§Äy°hÆ\\x13\\x8c¤\\x1c=\"á\\x1a\\x98 \\x84´,\\x85¯nãY»bhlÿ(=\\':©\\x82ÙoÈ¢×\\x93\\x98´ï\\x80å¹\\x90\\x00(À')\n",
      "209.17.96.26 - - [16/Jan/2020 05:51:51] \"\u0016\u0003\u0002\u0001o\u0001\u0000\u0001k\u0003\u0002RHÅ\u001a#÷:Nßâ´/ÿ\tT§Äy°hÆ\u0013¤\u001c",
      "=\"á\u001a ´,",
      "¯nãY»bhlÿ(=':©ÙoÈ¢×´ïå¹\u0000(À\" HTTPStatus.BAD_REQUEST -\n",
      "119.3.148.45 - - [16/Jan/2020 05:54:01] \"GET /query?q=What+is+the+title+of+the+most+expensive+book%3F HTTP/1.0\" 200 -\n",
      "119.3.148.45 - - [16/Jan/2020 05:56:20] \"GET /query?q=What+is+the+title+of+the+most+expensive+book%3F HTTP/1.0\" 200 -\n",
      "119.3.148.45 - - [16/Jan/2020 05:57:05] \"GET /query?q=what+is+the+title+of+the+most+expensive+book HTTP/1.0\" 200 -\n",
      "119.3.148.45 - - [16/Jan/2020 05:57:21] \"GET /query?q=What+is+the+title+of+the+most+expensive+book%3F HTTP/1.0\" 200 -\n",
      "119.3.148.45 - - [16/Jan/2020 05:59:59] \"GET /query?q=What%27s+the+title+of+the+most+expensive+book HTTP/1.0\" 200 -\n",
      "119.3.148.45 - - [16/Jan/2020 06:00:00] \"GET /query?q=What%27s+the+title+of+the+most+expensive+book HTTP/1.0\" 200 -\n",
      "119.3.148.45 - - [16/Jan/2020 06:00:54] \"GET /query?q= HTTP/1.0\" 200 -\n",
      "119.3.148.45 - - [16/Jan/2020 06:01:01] \"GET /query?q= HTTP/1.0\" 200 -\n",
      "119.3.148.45 - - [16/Jan/2020 06:01:28] \"GET /query?q=What%27s+the+total+price+of+all+books%3F HTTP/1.0\" 200 -\n",
      "119.3.148.45 - - [16/Jan/2020 06:07:15] \"GET /query?q=What%27s+the+title+of+the+most+expensive+book HTTP/1.0\" 200 -\n",
      "119.3.148.45 - - [16/Jan/2020 06:07:52] \"GET /query?q=what%27s+the+author+of+the+book+The+Block HTTP/1.0\" 200 -\n",
      "119.3.148.45 - - [16/Jan/2020 06:08:20] \"GET /query?q=is+it+altar+of+Dipping+tobacco HTTP/1.0\" 200 -\n",
      "159.203.201.164 - - [16/Jan/2020 06:43:43] \"GET /manager/text/list HTTP/1.1\" 404 -\n",
      "119.3.148.45 - - [16/Jan/2020 07:04:47] \"GET /query?q=What+is+the+title+of+the+most+expensive+book%3F HTTP/1.0\" 200 -\n",
      "119.3.148.45 - - [16/Jan/2020 07:07:23] \"GET /query?q=What+is+the+title+of+the+most+expensive+book%3F HTTP/1.0\" 200 -\n",
      "119.3.148.45 - - [16/Jan/2020 07:34:19] \"GET /query?q=Show+me+the+student+name+with+highest+GPA%3F HTTP/1.0\" 200 -\n"
     ]
    }
   ],
   "source": [
    "from flask import Flask\n",
    "from flask import request, jsonify\n",
    "from flask_cors import CORS\n",
    "\n",
    "app = Flask(__name__)\n",
    "CORS(app)\n",
    "\n",
    "app = Flask(__name__)\n",
    "CORS(app)\n",
    "\n",
    "@app.route('/')\n",
    "def hello_world():\n",
    "    return 'Hello, World!'\n",
    "\n",
    "@app.route('/query')\n",
    "def query():\n",
    "    q = request.args.get('q')\n",
    "    \n",
    "    db, c  = db_infer(q)\n",
    "    try:\n",
    "        return jsonify({\n",
    "            \"data\": db,\n",
    "            \"confidence\": c\n",
    "        })\n",
    "    except:\n",
    "        return jsonify({\n",
    "            \"data\": \"college_1\",\n",
    "            \"confidence\": 0.0\n",
    "        })\n",
    "\n",
    "app.run(host='0.0.0.0', port=443)"
   ]
  },
  {
   "cell_type": "code",
   "execution_count": null,
   "metadata": {},
   "outputs": [],
   "source": []
  }
 ],
 "metadata": {
  "kernelspec": {
   "display_name": "python3.6",
   "language": "python",
   "name": "python3.6"
  },
  "language_info": {
   "codemirror_mode": {
    "name": "ipython",
    "version": 3
   },
   "file_extension": ".py",
   "mimetype": "text/x-python",
   "name": "python",
   "nbconvert_exporter": "python",
   "pygments_lexer": "ipython3",
   "version": "3.6.10"
  }
 },
 "nbformat": 4,
 "nbformat_minor": 4
}
