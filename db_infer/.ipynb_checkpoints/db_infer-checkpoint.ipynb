{
 "cells": [
  {
   "cell_type": "code",
   "execution_count": 1,
   "metadata": {},
   "outputs": [],
   "source": [
    "import json\n",
    "import pickle\n",
    "import random\n",
    "import numpy as np\n",
    "import torch\n",
    "import torch.nn as nn\n",
    "from transformers import BertTokenizer, BertModel\n",
    "from sklearn.model_selection import train_test_split\n",
    "from tqdm import tqdm"
   ]
  },
  {
   "cell_type": "code",
   "execution_count": 2,
   "metadata": {},
   "outputs": [],
   "source": [
    "torch.manual_seed(2333)\n",
    "torch.cuda.manual_seed(2333)\n",
    "np.random.seed(2333)\n",
    "random.seed(2333)\n",
    "torch.backends.cudnn.deterministic = True"
   ]
  },
  {
   "cell_type": "code",
   "execution_count": 3,
   "metadata": {},
   "outputs": [],
   "source": [
    "device = torch.device(\"cuda\") if torch.cuda.is_available() else torch.device(\"cpu\")"
   ]
  },
  {
   "cell_type": "code",
   "execution_count": 4,
   "metadata": {},
   "outputs": [],
   "source": [
    "tokenizer = BertTokenizer.from_pretrained('bert-base-uncased')"
   ]
  },
  {
   "cell_type": "code",
   "execution_count": 5,
   "metadata": {},
   "outputs": [],
   "source": [
    "DB_tok = pickle.load(open(\"save/DB_tok\", \"rb\"))\n",
    "# DB_tok = {db: DB_tok[db] for db in [\"college_1\", \"book_2\", \"company_employee\", \"flight_1\", \"concert_singer\"]}"
   ]
  },
  {
   "cell_type": "code",
   "execution_count": 6,
   "metadata": {},
   "outputs": [],
   "source": [
    "query_size = 380\n",
    "bert_size = 768"
   ]
  },
  {
   "cell_type": "code",
   "execution_count": 7,
   "metadata": {},
   "outputs": [],
   "source": [
    "def align(x, size):\n",
    "    if len(x) < size:\n",
    "        return x + [0] * (size - len(x))\n",
    "    return x[:size - 1] + [102]"
   ]
  },
  {
   "cell_type": "code",
   "execution_count": 8,
   "metadata": {},
   "outputs": [],
   "source": [
    "def query2tok(q):\n",
    "    q = \"[CLS] \" + q + \" [SEP]\"\n",
    "    return align(tokenizer.convert_tokens_to_ids(tokenizer.tokenize(q)), query_size)"
   ]
  },
  {
   "cell_type": "code",
   "execution_count": 9,
   "metadata": {},
   "outputs": [],
   "source": [
    "class net(nn.Module):\n",
    "    def __init__(self):\n",
    "        super(net, self).__init__()\n",
    "        self.MD = nn.ModuleDict({\n",
    "            \"encoder\": BertModel.from_pretrained('bert-base-uncased'),\n",
    "            # \"query_encoder\": BertModel.from_pretrained('bert-base-uncased'),\n",
    "            # \"db_encoder\": BertModel.from_pretrained('bert-base-uncased'),\n",
    "            \"linear1\": nn.Linear(bert_size, 768),\n",
    "            \"linear2\": nn.Linear(768, 300),\n",
    "            \"linear3\": nn.Linear(300, 1)\n",
    "        })\n",
    "        \n",
    "        for submodel in [self.MD[\"encoder\"]]:\n",
    "            for param in submodel.parameters():\n",
    "                param.requires_grad = False\n",
    "        \n",
    "    \n",
    "    def forward(self, x):\n",
    "        db, tok = x\n",
    "        x = self.MD['encoder'](db, token_type_ids=tok)\n",
    "        # Q = self.MD[\"query_encoder\"](query)\n",
    "        # D = self.MD[\"db_encoder\"](db)\n",
    "#         x = torch.sum(Q[0][:, 0, :] * D[0][:, 0, :], axis=-1)\n",
    "#         print(x)\n",
    "        # x = torch.cat([Q[0][:, 0, :], D[0][:, 0, :]], -1)\n",
    "        x = torch.nn.functional.relu(self.MD[\"linear1\"](x[0][:, 0, :]))\n",
    "        x = torch.nn.functional.relu(self.MD[\"linear2\"](x))\n",
    "        x = self.MD[\"linear3\"](x)\n",
    "        return torch.sigmoid(x).view(-1)"
   ]
  },
  {
   "cell_type": "code",
   "execution_count": 10,
   "metadata": {},
   "outputs": [
    {
     "data": {
      "text/plain": [
       "<All keys matched successfully>"
      ]
     },
     "execution_count": 10,
     "metadata": {},
     "output_type": "execute_result"
    }
   ],
   "source": [
    "model = net().to(device)\n",
    "model.load_state_dict(torch.load(\"save/best_model.pt\"))"
   ]
  },
  {
   "cell_type": "code",
   "execution_count": 11,
   "metadata": {},
   "outputs": [],
   "source": [
    "def db_infer(q):\n",
    "    DB_score = {}\n",
    "    q_tok = query2tok(q)\n",
    "    for db_name, db_tok in DB_tok.items():\n",
    "        if db_name not in ['college_1', 'book_2', 'company_employee', 'flight_1', 'concert_singer']\n",
    "        X = [(q_tok, db_tok)]\n",
    "        seq = torch.tensor([x[0] + x[1] for x in X]).to(device)\n",
    "        mask = torch.tensor([[0] * len(x[0]) + [1] * len(x[1]) for x in X]).to(device)\n",
    "        model.eval()\n",
    "        y_pred = model((seq, mask)).item()\n",
    "        DB_score[db_name] = y_pred\n",
    "#         print(db_name, y_pred)\n",
    "    db = max(DB_score, key=lambda d: DB_score[d])\n",
    "    return db, DB_score[db]"
   ]
  },
  {
   "cell_type": "code",
   "execution_count": 12,
   "metadata": {},
   "outputs": [
    {
     "data": {
      "text/plain": [
       "('concert_singer', 0.6469578146934509)"
      ]
     },
     "execution_count": 12,
     "metadata": {},
     "output_type": "execute_result"
    }
   ],
   "source": [
    "query = \"How many singers do we have?\"\n",
    "db_infer(query)"
   ]
  },
  {
   "cell_type": "code",
   "execution_count": null,
   "metadata": {},
   "outputs": [
    {
     "name": "stdout",
     "output_type": "stream",
     "text": [
      " * Serving Flask app \"__main__\" (lazy loading)\n",
      " * Environment: production\n",
      "   WARNING: This is a development server. Do not use it in a production deployment.\n",
      "   Use a production WSGI server instead.\n",
      " * Debug mode: off\n"
     ]
    },
    {
     "name": "stderr",
     "output_type": "stream",
     "text": [
      " * Running on http://0.0.0.0:443/ (Press CTRL+C to quit)\n",
      "203.208.61.68 - - [16/Jan/2020 02:23:34] \"GET /query?q=how%20many%20singers HTTP/1.1\" 200 -\n",
      "203.208.61.68 - - [16/Jan/2020 02:23:57] \"GET /query?q=show%20me%20the%20most%20expensive%20book HTTP/1.1\" 200 -\n"
     ]
    }
   ],
   "source": [
    "from flask import Flask\n",
    "from flask import request, jsonify\n",
    "from flask_cors import CORS\n",
    "\n",
    "app = Flask(__name__)\n",
    "CORS(app)\n",
    "\n",
    "app = Flask(__name__)\n",
    "CORS(app)\n",
    "\n",
    "@app.route('/')\n",
    "def hello_world():\n",
    "    return 'Hello, World!'\n",
    "\n",
    "@app.route('/query')\n",
    "def query():\n",
    "    q = request.args.get('q')\n",
    "    \n",
    "    db, c  = db_infer(q)\n",
    "    try:\n",
    "        return jsonify({\n",
    "            \"data\": db,\n",
    "            \"confidence\": c\n",
    "        })\n",
    "    except:\n",
    "        return jsonify({\n",
    "            \"data\": \"college_1\",\n",
    "            \"confidence\": 0.0\n",
    "        })\n",
    "\n",
    "app.run(host='0.0.0.0', port=443)"
   ]
  },
  {
   "cell_type": "code",
   "execution_count": 15,
   "metadata": {},
   "outputs": [
    {
     "name": "stdout",
     "output_type": "stream",
     "text": [
      "Requirement already satisfied: flask in /usr/local/lib/python3.5/dist-packages (1.1.1)\n",
      "Requirement already satisfied: flask_cors in /usr/local/lib/python3.5/dist-packages (3.0.8)\n",
      "Requirement already satisfied: Werkzeug>=0.15 in /usr/local/lib/python3.5/dist-packages (from flask) (0.16.0)\n",
      "Requirement already satisfied: Jinja2>=2.10.1 in /usr/local/lib/python3.5/dist-packages (from flask) (2.10.3)\n",
      "Requirement already satisfied: click>=5.1 in /usr/local/lib/python3.5/dist-packages (from flask) (7.0)\n",
      "Requirement already satisfied: itsdangerous>=0.24 in /usr/local/lib/python3.5/dist-packages (from flask) (1.1.0)\n",
      "Requirement already satisfied: Six in /usr/local/lib/python3.5/dist-packages (from flask_cors) (1.13.0)\n",
      "Requirement already satisfied: MarkupSafe>=0.23 in /usr/local/lib/python3.5/dist-packages (from Jinja2>=2.10.1->flask) (1.1.1)\n"
     ]
    },
    {
     "ename": "ModuleNotFoundError",
     "evalue": "No module named 'flask'",
     "output_type": "error",
     "traceback": [
      "\u001b[0;31m---------------------------------------------------------------------------\u001b[0m",
      "\u001b[0;31mModuleNotFoundError\u001b[0m                       Traceback (most recent call last)",
      "\u001b[0;32m<ipython-input-15-4e50eea8a95a>\u001b[0m in \u001b[0;36m<module>\u001b[0;34m\u001b[0m\n\u001b[1;32m      1\u001b[0m \u001b[0mget_ipython\u001b[0m\u001b[0;34m(\u001b[0m\u001b[0;34m)\u001b[0m\u001b[0;34m.\u001b[0m\u001b[0msystem\u001b[0m\u001b[0;34m(\u001b[0m\u001b[0;34m'pip install flask flask_cors'\u001b[0m\u001b[0;34m)\u001b[0m\u001b[0;34m\u001b[0m\u001b[0;34m\u001b[0m\u001b[0m\n\u001b[0;32m----> 2\u001b[0;31m \u001b[0;32mimport\u001b[0m \u001b[0mflask\u001b[0m\u001b[0;34m\u001b[0m\u001b[0;34m\u001b[0m\u001b[0m\n\u001b[0m",
      "\u001b[0;31mModuleNotFoundError\u001b[0m: No module named 'flask'"
     ]
    }
   ],
   "source": [
    "!pip install flask flask_cors\n",
    "import flask"
   ]
  },
  {
   "cell_type": "code",
   "execution_count": null,
   "metadata": {},
   "outputs": [],
   "source": []
  }
 ],
 "metadata": {
  "kernelspec": {
   "display_name": "python3.6",
   "language": "python",
   "name": "python3.6"
  },
  "language_info": {
   "codemirror_mode": {
    "name": "ipython",
    "version": 3
   },
   "file_extension": ".py",
   "mimetype": "text/x-python",
   "name": "python",
   "nbconvert_exporter": "python",
   "pygments_lexer": "ipython3",
   "version": "3.6.10"
  }
 },
 "nbformat": 4,
 "nbformat_minor": 4
}
