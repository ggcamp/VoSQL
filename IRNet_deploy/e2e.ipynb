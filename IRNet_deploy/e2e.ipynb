{
 "cells": [
  {
   "cell_type": "code",
   "execution_count": 8,
   "metadata": {},
   "outputs": [],
   "source": [
    "import torch\n",
    "from src import args as arg\n",
    "from src import utils\n",
    "from src.models.model import IRNet\n",
    "from src.rule import semQL\n",
    "import argparse\n",
    "import sem2SQL\n",
    "import copy\n",
    "import os\n",
    "import json\n",
    "import nltk\n",
    "import re\n",
    "import tempfile\n",
    "import shutil\n",
    "\n",
    "args = argparse.Namespace(\n",
    "    action_embed_size=128,\n",
    "    att_vec_size=300,\n",
    "    batch_size=64,\n",
    "    beam_size=10,\n",
    "    clip_grad=5.0,\n",
    "    col_embed_size=300,\n",
    "    column_att='affine',\n",
    "    column_pointer=True,\n",
    "    cuda=True,\n",
    "    dataset='./fdata',\n",
    "    decode_max_time_step=40,\n",
    "    dropout=0.3,\n",
    "    embed_size=300,\n",
    "    epoch=50,\n",
    "    glove_embed_path='./data/glove.42B.300d.txt',\n",
    "    hidden_size=300,\n",
    "    load_model='./saved_model/IRNet_pretrained.model',\n",
    "    loss_epoch_threshold=50,\n",
    "    lr=0.001,\n",
    "    lr_scheduler=True,\n",
    "    lr_scheduler_gammar=0.5,\n",
    "    lstm='lstm',\n",
    "    max_epoch=-1,\n",
    "    model_name='rnn',\n",
    "    no_query_vec_to_action_map=False,\n",
    "    optimizer='Adam',\n",
    "    query_vec_to_action_diff_map=False,\n",
    "    readout='identity',\n",
    "    save='save',\n",
    "    save_to='model',\n",
    "    seed=90,\n",
    "    sentence_features=True,\n",
    "    sketch_loss_coefficient=1.0,\n",
    "    toy=False,\n",
    "    type_embed_size=128,\n",
    "    word_dropout=0.2\n",
    ")\n",
    "\n",
    "def load_data(tmpdir):\n",
    "    global table_data, sql_data, schemas\n",
    "    \n",
    "    import copy\n",
    "    cargs = copy.deepcopy(args)\n",
    "    cargs.dataset = os.path.join(tmpdir, 'fdata')\n",
    "    \n",
    "    _, table_data, sql_data, _ = utils.load_dataset(cargs.dataset, use_small=args.toy)\n",
    "    with open(os.path.join(args.dataset, 'tables.json'), 'r', encoding='utf8') as f:\n",
    "        table_datas = json.load(f)\n",
    "    schemas = dict()\n",
    "    for i in range(len(table_datas)):\n",
    "        schemas[table_datas[i]['db_id']] = table_datas[i]\n",
    "\n",
    "        \n",
    "def load_model():\n",
    "    global model\n",
    "    \n",
    "    grammar = semQL.Grammar()\n",
    "    model = IRNet(args, grammar)\n",
    "    if args.cuda: model.cuda()\n",
    "    print('load pretrained model from %s'% (args.load_model))\n",
    "    pretrained_model = torch.load(args.load_model,\n",
    "                                     map_location=lambda storage, loc: storage)\n",
    "    pretrained_modeled = copy.deepcopy(pretrained_model)\n",
    "    for k in pretrained_model.keys():\n",
    "        if k not in model.state_dict().keys():\n",
    "            del pretrained_modeled[k]\n",
    "    model.load_state_dict(pretrained_modeled)\n",
    "    model.word_emb = utils.load_word_emb(args.glove_embed_path)\n",
    "\n",
    "\n",
    "def feed_question(qstr, db_id='concert_singer'):\n",
    "    template = json.load(open(\"preprocess/fuck.json\"))[0]\n",
    "    template['db_id'] = db_id\n",
    "    template['question'] = qstr\n",
    "    template['question_toks'] = nltk.tokenize.TweetTokenizer().tokenize(qstr)\n",
    "    \n",
    "    tempdir = tempfile.mkdtemp('lalala')\n",
    "    print('cp -r fdata ' + tempdir)\n",
    "    os.system('cp -r fdata ' + tempdir)\n",
    "    json.dump([template], open(os.path.join(tempdir, \"tmp.json\"), \"w\"))\n",
    "    \n",
    "    print('preprocess/run_me.sh {} tables.json {}'.format(os.path.join(tempdir, \"tmp.json\"), os.path.join(tempdir, \"fdata\", \"dev.json\")))\n",
    "    os.system('preprocess/run_me.sh {} tables.json {}'.format(os.path.join(tempdir, \"tmp.json\"), os.path.join(tempdir, \"fdata\", \"dev.json\")))\n",
    "    return tempdir\n",
    "\n",
    "    \n",
    "def do_prediction(db_id='concert_singer'):\n",
    "    print(sql_data)\n",
    "    perm = list(range(len(sql_data)))\n",
    "    examples = utils.to_batch_seq(sql_data, table_data, perm, 0, 1, is_train=False)\n",
    "    example=examples[0]\n",
    "    print(example.src_sent)\n",
    "    results = model.parse(example, args.beam_size)[0]\n",
    "    sql_sentences = []\n",
    "    for result in results:\n",
    "        modified_example = {'model_result_replace': ' '.join([str(x) for x in results[0].actions]), **sql_data[0]}\n",
    "        sql_sentence = sem2SQL.transform(modified_example, schemas[db_id])[0]\n",
    "        sql_sentences.append(sql_sentence)\n",
    "    print(sql_sentences)\n",
    "    return sql_sentences"
   ]
  },
  {
   "cell_type": "code",
   "execution_count": 2,
   "metadata": {},
   "outputs": [
    {
     "name": "stdout",
     "output_type": "stream",
     "text": [
      "Use Column Pointer:  True\n",
      "load pretrained model from ./saved_model/IRNet_pretrained.model\n",
      "Loading word embedding from ./data/glove.42B.300d.txt\n"
     ]
    }
   ],
   "source": [
    "# load_model()"
   ]
  },
  {
   "cell_type": "code",
   "execution_count": 11,
   "metadata": {},
   "outputs": [],
   "source": [
    "def e2e_demo(qstr, db_id='concert_singer'):\n",
    "    tempdir = feed_question(qstr, db_id=db_id)\n",
    "    load_data(tempdir)\n",
    "    ret = do_prediction(db_id=db_id)\n",
    "    shutil.rmtree(tempdir)\n",
    "    return ret\n",
    "\n",
    "def e2e_execute_demo(qstr, db_id='concert_singer', last=None):\n",
    "    import sqlalchemy\n",
    "    import pandas as pd\n",
    "    sqls = e2e_demo(qstr, db_id=db_id)\n",
    "    \n",
    "    for sql in sqls:\n",
    "        if last is not None and last != '':\n",
    "            sql = sql.replace('= 1', \"= '{}'\".format(last))\n",
    "            print(sql)\n",
    "        joins = list(re.findall('([^\\s]+)\\s+AS\\s+([^\\s]+)\\s+JOIN\\s+([^\\s]+)\\s+AS\\s+([^\\s]+)', sql))\n",
    "        ssql = re.split('[^\\s]+\\s+AS\\s+[^\\s]+\\s+JOIN\\s+[^\\s]+\\s+AS\\s+[^\\s]+', sql)\n",
    "        print(ssql, joins)\n",
    "        assert len(ssql) == len(joins) + 1\n",
    "        nsql = ''\n",
    "        \n",
    "        dbschema = schemas[db_id]\n",
    "        column_names = dbschema['column_names_original']\n",
    "        table_names = dbschema['table_names_original']\n",
    "        fk = dbschema['foreign_keys']\n",
    "        \n",
    "        def get_common_key(t1, t2):\n",
    "            i1 = table_names.index(t1)\n",
    "            i2 = table_names.index(t2)\n",
    "            columns_1 = [(i, y) for i, (x, y) in enumerate(column_names) if x == i1]\n",
    "            columns_2 = [(i, y) for i, (x, y) in enumerate(column_names) if x == i2]\n",
    "            for _, x in columns_1:\n",
    "                for _, y in columns_2:\n",
    "                    if x == y: return x, y\n",
    "            return None, None\n",
    "            \n",
    "        \n",
    "        for x in range(len(ssql)):\n",
    "            nsql += ssql[x]\n",
    "            if x != len(ssql) - 1:\n",
    "                print(joins[x])\n",
    "                k1, k2 = get_common_key(joins[x][0], joins[x][2])\n",
    "                if k1 is not None:\n",
    "                    nsql += '{0} AS {1} JOIN {2} AS {3} ON {1}.{4} = {3}.{5}'.format(*(list(joins[x]) + [k1, k2]))\n",
    "                else:\n",
    "                    nsql += '{0} AS {1} JOIN {2} AS {3}'.format(*joins[x])\n",
    "        sql = nsql\n",
    "        \n",
    "        print(nsql)\n",
    "        engine = sqlalchemy.engine.create_engine(\"sqlite:///../text2sql/database/{}/{}.sqlite\".format(db_id, db_id))\n",
    "        df = pd.read_sql(sql, engine)\n",
    "        if df.shape[0] != 0: return sql, df\n",
    "    \n",
    "    return sql, df"
   ]
  },
  {
   "cell_type": "code",
   "execution_count": 12,
   "metadata": {},
   "outputs": [
    {
     "name": "stdout",
     "output_type": "stream",
     "text": [
      "cp -r fdata /tmp/tmpd06v2aetlalala\n",
      "preprocess/run_me.sh /tmp/tmpd06v2aetlalala/tmp.json tables.json /tmp/tmpd06v2aetlalala/fdata/dev.json\n",
      "Loading from datasets...\n",
      "Loading data from /tmp/tmpd06v2aetlalala/fdata/tables.json\n",
      "Loading data from /tmp/tmpd06v2aetlalala/fdata/train.json\n",
      "Loading data from /tmp/tmpd06v2aetlalala/fdata/dev.json\n",
      "[{'db_id': 'book_2', 'query': 'SELECT 1', 'query_toks': ['SELECT', '1'], 'query_toks_no_value': ['select', '1'], 'question': 'Give me the author of the cheapest book', 'question_toks': ['give', 'me', 'author', 'of', 'cheapest', 'book'], 'sql': {'except': None, 'from': {'conds': [], 'table_units': [['table_unit', 1]]}, 'groupby': [], 'having': [], 'intersect': None, 'limit': None, 'orderby': [], 'select': [False, [[3, [0, [0, 0, False], None]]]], 'union': None, 'where': []}, 'names': ['*', 'publication id', 'book id', 'publisher', 'publication date', 'price', 'book id', 'title', 'issues', 'writer'], 'table_names': ['publication', 'book'], 'col_set': ['*', 'publication id', 'book id', 'publisher', 'publication date', 'price', 'title', 'issues', 'writer'], 'col_table': [-1, 0, 0, 0, 0, 0, 1, 1, 1, 1], 'keys': {'2': 6, '6': 6, '1': 1}, 'origin_question_toks': ['Give', 'me', 'the', 'author', 'of', 'the', 'cheapest', 'book'], 'question_arg': [['give'], ['me'], ['author'], ['of'], ['cheapest'], ['book']], 'question_arg_type': [['NONE'], ['NONE'], ['NONE'], ['NONE'], ['MOST'], ['table']], 'nltk_pos': [['give', 'VB'], ['me', 'PRP'], ['author', 'NN'], ['of', 'IN'], ['cheapest', 'JJS'], ['book', 'NN']]}]\n",
      "[['give'], ['me'], ['author'], ['of'], ['cheapest'], ['table', 'book']]\n",
      "['SELECT T1.Title FROM book AS T1 JOIN publication AS T2    ORDER BY T2.Price ASC LIMIT 1    ', 'SELECT T1.Title FROM book AS T1 JOIN publication AS T2    ORDER BY T2.Price ASC LIMIT 1    ', 'SELECT T1.Title FROM book AS T1 JOIN publication AS T2    ORDER BY T2.Price ASC LIMIT 1    ', 'SELECT T1.Title FROM book AS T1 JOIN publication AS T2    ORDER BY T2.Price ASC LIMIT 1    ', 'SELECT T1.Title FROM book AS T1 JOIN publication AS T2    ORDER BY T2.Price ASC LIMIT 1    ', 'SELECT T1.Title FROM book AS T1 JOIN publication AS T2    ORDER BY T2.Price ASC LIMIT 1    ', 'SELECT T1.Title FROM book AS T1 JOIN publication AS T2    ORDER BY T2.Price ASC LIMIT 1    ', 'SELECT T1.Title FROM book AS T1 JOIN publication AS T2    ORDER BY T2.Price ASC LIMIT 1    ', 'SELECT T1.Title FROM book AS T1 JOIN publication AS T2    ORDER BY T2.Price ASC LIMIT 1    ', 'SELECT T1.Title FROM book AS T1 JOIN publication AS T2    ORDER BY T2.Price ASC LIMIT 1    ']\n",
      "['SELECT T1.Title FROM ', '    ORDER BY T2.Price ASC LIMIT 1    '] [('book', 'T1', 'publication', 'T2')]\n",
      "('book', 'T1', 'publication', 'T2')\n",
      "SELECT T1.Title FROM book AS T1 JOIN publication AS T2 ON T1.Book_ID = T2.Book_ID    ORDER BY T2.Price ASC LIMIT 1    \n"
     ]
    },
    {
     "data": {
      "text/plain": [
       "('SELECT T1.Title FROM book AS T1 JOIN publication AS T2 ON T1.Book_ID = T2.Book_ID    ORDER BY T2.Price ASC LIMIT 1    ',\n",
       "                            Title\n",
       " 0  Michael Moorcock's Multiverse)"
      ]
     },
     "execution_count": 12,
     "metadata": {},
     "output_type": "execute_result"
    }
   ],
   "source": [
    "model.eval()\n",
    "e2e_execute_demo(\"Give me the author of the cheapest book\", db_id=\"book_2\")"
   ]
  },
  {
   "cell_type": "code",
   "execution_count": 13,
   "metadata": {},
   "outputs": [
    {
     "name": "stdout",
     "output_type": "stream",
     "text": [
      "cp -r fdata /tmp/tmpmhqb73lblalala\n",
      "preprocess/run_me.sh /tmp/tmpmhqb73lblalala/tmp.json tables.json /tmp/tmpmhqb73lblalala/fdata/dev.json\n",
      "Loading from datasets...\n",
      "Loading data from /tmp/tmpmhqb73lblalala/fdata/tables.json\n",
      "Loading data from /tmp/tmpmhqb73lblalala/fdata/train.json\n",
      "Loading data from /tmp/tmpmhqb73lblalala/fdata/dev.json\n",
      "[{'db_id': 'book_2', 'query': 'SELECT 1', 'query_toks': ['SELECT', '1'], 'query_toks_no_value': ['select', '1'], 'question': 'show me the titles of the books', 'question_toks': ['show', 'me', 'title', 'of', 'book'], 'sql': {'except': None, 'from': {'conds': [], 'table_units': [['table_unit', 1]]}, 'groupby': [], 'having': [], 'intersect': None, 'limit': None, 'orderby': [], 'select': [False, [[3, [0, [0, 0, False], None]]]], 'union': None, 'where': []}, 'names': ['*', 'publication id', 'book id', 'publisher', 'publication date', 'price', 'book id', 'title', 'issues', 'writer'], 'table_names': ['publication', 'book'], 'col_set': ['*', 'publication id', 'book id', 'publisher', 'publication date', 'price', 'title', 'issues', 'writer'], 'col_table': [-1, 0, 0, 0, 0, 0, 1, 1, 1, 1], 'keys': {'2': 6, '6': 6, '1': 1}, 'origin_question_toks': ['show', 'me', 'the', 'titles', 'of', 'the', 'books'], 'question_arg': [['show'], ['me'], ['title'], ['of'], ['book']], 'question_arg_type': [['NONE'], ['NONE'], ['col'], ['NONE'], ['table']], 'nltk_pos': [['show', 'VB'], ['me', 'PRP'], ['title', 'VB'], ['of', 'IN'], ['book', 'NN']]}]\n",
      "[['show'], ['me'], ['column', 'title'], ['of'], ['table', 'book']]\n",
      "['SELECT T1.Title FROM book AS T1        ', 'SELECT T1.Title FROM book AS T1        ', 'SELECT T1.Title FROM book AS T1        ', 'SELECT T1.Title FROM book AS T1        ', 'SELECT T1.Title FROM book AS T1        ', 'SELECT T1.Title FROM book AS T1        ', 'SELECT T1.Title FROM book AS T1        ', 'SELECT T1.Title FROM book AS T1        ', 'SELECT T1.Title FROM book AS T1        ', 'SELECT T1.Title FROM book AS T1        ']\n",
      "['SELECT T1.Title FROM book AS T1        '] []\n",
      "SELECT T1.Title FROM book AS T1        \n"
     ]
    },
    {
     "data": {
      "text/plain": [
       "('SELECT T1.Title FROM book AS T1        ',                            Title\n",
       " 0                 The Black Lamb\n",
       " 1                    Bloody Mary\n",
       " 2     Bloody Mary : Lady Liberty\n",
       " 3                      BrainBanx\n",
       " 4                      Cyberella\n",
       " 5                     Dead Corps\n",
       " 6          The Dome: Ground Zero\n",
       " 7                   Gemini Blood\n",
       " 8  Michael Moorcock's Multiverse\n",
       " 9                    Sheva's War)"
      ]
     },
     "execution_count": 13,
     "metadata": {},
     "output_type": "execute_result"
    }
   ],
   "source": [
    "e2e_execute_demo(\"show me the titles of the books\", db_id=\"book_2\")"
   ]
  },
  {
   "cell_type": "code",
   "execution_count": null,
   "metadata": {},
   "outputs": [
    {
     "name": "stdout",
     "output_type": "stream",
     "text": [
      " * Serving Flask app \"__main__\" (lazy loading)\n",
      " * Environment: production\n",
      "   WARNING: This is a development server. Do not use it in a production deployment.\n",
      "   Use a production WSGI server instead.\n",
      " * Debug mode: off\n"
     ]
    },
    {
     "name": "stderr",
     "output_type": "stream",
     "text": [
      " * Running on http://0.0.0.0:443/ (Press CTRL+C to quit)\n",
      "119.3.148.45 - - [16/Jan/2020 05:46:40] \"GET / HTTP/1.0\" 200 -\n",
      "119.3.148.45 - - [16/Jan/2020 05:46:56] \"GET //query?q=fuck%20you&db=college_1 HTTP/1.0\" 308 -\n",
      "119.3.148.45 - - [16/Jan/2020 05:46:56] \"GET /?q=fuck%20you&db=college_1 HTTP/1.0\" 200 -\n",
      "119.3.148.45 - - [16/Jan/2020 05:48:00] \"GET /text2sql?q=fuck%20you&db=college_1 HTTP/1.0\" 404 -\n",
      "119.3.148.45 - - [16/Jan/2020 05:48:09] \"GET /text2sql/query?q=fuck%20you&db=college_1 HTTP/1.0\" 404 -\n"
     ]
    },
    {
     "name": "stdout",
     "output_type": "stream",
     "text": [
      "cp -r fdata /tmp/tmpq7myxmislalala\n",
      "preprocess/run_me.sh /tmp/tmpq7myxmislalala/tmp.json tables.json /tmp/tmpq7myxmislalala/fdata/dev.json\n",
      "Loading from datasets...\n",
      "Loading data from /tmp/tmpq7myxmislalala/fdata/tables.json\n",
      "Loading data from /tmp/tmpq7myxmislalala/fdata/train.json\n",
      "Loading data from /tmp/tmpq7myxmislalala/fdata/dev.json\n",
      "[{'db_id': 'college_1', 'query': 'SELECT 1', 'query_toks': ['SELECT', '1'], 'query_toks_no_value': ['select', '1'], 'question': 'fuck you', 'question_toks': ['fuck', 'you'], 'sql': {'except': None, 'from': {'conds': [], 'table_units': [['table_unit', 1]]}, 'groupby': [], 'having': [], 'intersect': None, 'limit': None, 'orderby': [], 'select': [False, [[3, [0, [0, 0, False], None]]]], 'union': None, 'where': []}, 'names': ['*', 'class code', 'course code', 'class section', 'class time', 'class room', 'professor employee number', 'course code', 'department code', 'course description', 'course credit', 'department code', 'department name', 'school code', 'employee number', 'department address', 'department extension', 'employee number', 'employee last name', 'employee first name', 'employee initial', 'employee job code', 'employee hire date', 'employee date of birth', 'class code', 'student number', 'enroll grade', 'employee number', 'department code', 'professor office', 'professor extension', 'professor high degree', 'student num', 'student last name', 'student first name', 'student init', 'student date of birth', 'student class hours took', 'student class', 'student gpa', 'student transfer', 'department code', 'student phone', 'professor number'], 'table_names': ['class', 'course', 'department', 'employee', 'enroll', 'professor', 'student'], 'col_set': ['*', 'class code', 'course code', 'class section', 'class time', 'class room', 'professor employee number', 'department code', 'course description', 'course credit', 'department name', 'school code', 'employee number', 'department address', 'department extension', 'employee last name', 'employee first name', 'employee initial', 'employee job code', 'employee hire date', 'employee date of birth', 'student number', 'enroll grade', 'professor office', 'professor extension', 'professor high degree', 'student num', 'student last name', 'student first name', 'student init', 'student date of birth', 'student class hours took', 'student class', 'student gpa', 'student transfer', 'student phone', 'professor number'], 'col_table': [-1, 0, 0, 0, 0, 0, 0, 1, 1, 1, 1, 2, 2, 2, 2, 2, 2, 3, 3, 3, 3, 3, 3, 3, 4, 4, 4, 5, 5, 5, 5, 5, 6, 6, 6, 6, 6, 6, 6, 6, 6, 6, 6, 6], 'keys': {'6': 17, '17': 17, '2': 7, '7': 7, '8': 11, '11': 11, '14': 17, '25': 32, '32': 32, '24': 1, '1': 1, '28': 11, '27': 17, '41': 11}, 'origin_question_toks': ['fuck', 'you'], 'question_arg': [['fuck'], ['you']], 'question_arg_type': [['NONE'], ['NONE']], 'nltk_pos': [['fuck', 'NN'], ['you', 'PRP']]}]\n",
      "[['fuck'], ['you']]\n"
     ]
    },
    {
     "name": "stderr",
     "output_type": "stream",
     "text": [
      "119.3.148.45 - - [16/Jan/2020 05:49:30] \"GET /query?q=fuck%20you&db=college_1 HTTP/1.0\" 200 -\n"
     ]
    },
    {
     "name": "stdout",
     "output_type": "stream",
     "text": [
      "['SELECT T1.PROF_HIGH_DEGREE FROM PROFESSOR AS T1 JOIN EMPLOYEE AS T2 JOIN STUDENT AS T3 WHERE T2.EMP_FNAME = 1       ', 'SELECT T1.PROF_HIGH_DEGREE FROM PROFESSOR AS T1 JOIN EMPLOYEE AS T2 JOIN STUDENT AS T3 WHERE T2.EMP_FNAME = 1       ', 'SELECT T1.PROF_HIGH_DEGREE FROM PROFESSOR AS T1 JOIN EMPLOYEE AS T2 JOIN STUDENT AS T3 WHERE T2.EMP_FNAME = 1       ', 'SELECT T1.PROF_HIGH_DEGREE FROM PROFESSOR AS T1 JOIN EMPLOYEE AS T2 JOIN STUDENT AS T3 WHERE T2.EMP_FNAME = 1       ', 'SELECT T1.PROF_HIGH_DEGREE FROM PROFESSOR AS T1 JOIN EMPLOYEE AS T2 JOIN STUDENT AS T3 WHERE T2.EMP_FNAME = 1       ', 'SELECT T1.PROF_HIGH_DEGREE FROM PROFESSOR AS T1 JOIN EMPLOYEE AS T2 JOIN STUDENT AS T3 WHERE T2.EMP_FNAME = 1       ', 'SELECT T1.PROF_HIGH_DEGREE FROM PROFESSOR AS T1 JOIN EMPLOYEE AS T2 JOIN STUDENT AS T3 WHERE T2.EMP_FNAME = 1       ', 'SELECT T1.PROF_HIGH_DEGREE FROM PROFESSOR AS T1 JOIN EMPLOYEE AS T2 JOIN STUDENT AS T3 WHERE T2.EMP_FNAME = 1       ', 'SELECT T1.PROF_HIGH_DEGREE FROM PROFESSOR AS T1 JOIN EMPLOYEE AS T2 JOIN STUDENT AS T3 WHERE T2.EMP_FNAME = 1       ', 'SELECT T1.PROF_HIGH_DEGREE FROM PROFESSOR AS T1 JOIN EMPLOYEE AS T2 JOIN STUDENT AS T3 WHERE T2.EMP_FNAME = 1       ']\n",
      "['SELECT T1.PROF_HIGH_DEGREE FROM ', ' JOIN STUDENT AS T3 WHERE T2.EMP_FNAME = 1       '] [('PROFESSOR', 'T1', 'EMPLOYEE', 'T2')]\n",
      "('PROFESSOR', 'T1', 'EMPLOYEE', 'T2')\n",
      "SELECT T1.PROF_HIGH_DEGREE FROM PROFESSOR AS T1 JOIN EMPLOYEE AS T2 ON T1.EMP_NUM = T2.EMP_NUM JOIN STUDENT AS T3 WHERE T2.EMP_FNAME = 1       \n",
      "['SELECT T1.PROF_HIGH_DEGREE FROM ', ' JOIN STUDENT AS T3 WHERE T2.EMP_FNAME = 1       '] [('PROFESSOR', 'T1', 'EMPLOYEE', 'T2')]\n",
      "('PROFESSOR', 'T1', 'EMPLOYEE', 'T2')\n",
      "SELECT T1.PROF_HIGH_DEGREE FROM PROFESSOR AS T1 JOIN EMPLOYEE AS T2 ON T1.EMP_NUM = T2.EMP_NUM JOIN STUDENT AS T3 WHERE T2.EMP_FNAME = 1       \n",
      "['SELECT T1.PROF_HIGH_DEGREE FROM ', ' JOIN STUDENT AS T3 WHERE T2.EMP_FNAME = 1       '] [('PROFESSOR', 'T1', 'EMPLOYEE', 'T2')]\n",
      "('PROFESSOR', 'T1', 'EMPLOYEE', 'T2')\n",
      "SELECT T1.PROF_HIGH_DEGREE FROM PROFESSOR AS T1 JOIN EMPLOYEE AS T2 ON T1.EMP_NUM = T2.EMP_NUM JOIN STUDENT AS T3 WHERE T2.EMP_FNAME = 1       \n",
      "['SELECT T1.PROF_HIGH_DEGREE FROM ', ' JOIN STUDENT AS T3 WHERE T2.EMP_FNAME = 1       '] [('PROFESSOR', 'T1', 'EMPLOYEE', 'T2')]\n",
      "('PROFESSOR', 'T1', 'EMPLOYEE', 'T2')\n",
      "SELECT T1.PROF_HIGH_DEGREE FROM PROFESSOR AS T1 JOIN EMPLOYEE AS T2 ON T1.EMP_NUM = T2.EMP_NUM JOIN STUDENT AS T3 WHERE T2.EMP_FNAME = 1       \n",
      "['SELECT T1.PROF_HIGH_DEGREE FROM ', ' JOIN STUDENT AS T3 WHERE T2.EMP_FNAME = 1       '] [('PROFESSOR', 'T1', 'EMPLOYEE', 'T2')]\n",
      "('PROFESSOR', 'T1', 'EMPLOYEE', 'T2')\n",
      "SELECT T1.PROF_HIGH_DEGREE FROM PROFESSOR AS T1 JOIN EMPLOYEE AS T2 ON T1.EMP_NUM = T2.EMP_NUM JOIN STUDENT AS T3 WHERE T2.EMP_FNAME = 1       \n",
      "['SELECT T1.PROF_HIGH_DEGREE FROM ', ' JOIN STUDENT AS T3 WHERE T2.EMP_FNAME = 1       '] [('PROFESSOR', 'T1', 'EMPLOYEE', 'T2')]\n",
      "('PROFESSOR', 'T1', 'EMPLOYEE', 'T2')\n",
      "SELECT T1.PROF_HIGH_DEGREE FROM PROFESSOR AS T1 JOIN EMPLOYEE AS T2 ON T1.EMP_NUM = T2.EMP_NUM JOIN STUDENT AS T3 WHERE T2.EMP_FNAME = 1       \n",
      "['SELECT T1.PROF_HIGH_DEGREE FROM ', ' JOIN STUDENT AS T3 WHERE T2.EMP_FNAME = 1       '] [('PROFESSOR', 'T1', 'EMPLOYEE', 'T2')]\n",
      "('PROFESSOR', 'T1', 'EMPLOYEE', 'T2')\n",
      "SELECT T1.PROF_HIGH_DEGREE FROM PROFESSOR AS T1 JOIN EMPLOYEE AS T2 ON T1.EMP_NUM = T2.EMP_NUM JOIN STUDENT AS T3 WHERE T2.EMP_FNAME = 1       \n",
      "['SELECT T1.PROF_HIGH_DEGREE FROM ', ' JOIN STUDENT AS T3 WHERE T2.EMP_FNAME = 1       '] [('PROFESSOR', 'T1', 'EMPLOYEE', 'T2')]\n",
      "('PROFESSOR', 'T1', 'EMPLOYEE', 'T2')\n",
      "SELECT T1.PROF_HIGH_DEGREE FROM PROFESSOR AS T1 JOIN EMPLOYEE AS T2 ON T1.EMP_NUM = T2.EMP_NUM JOIN STUDENT AS T3 WHERE T2.EMP_FNAME = 1       \n",
      "['SELECT T1.PROF_HIGH_DEGREE FROM ', ' JOIN STUDENT AS T3 WHERE T2.EMP_FNAME = 1       '] [('PROFESSOR', 'T1', 'EMPLOYEE', 'T2')]\n",
      "('PROFESSOR', 'T1', 'EMPLOYEE', 'T2')\n",
      "SELECT T1.PROF_HIGH_DEGREE FROM PROFESSOR AS T1 JOIN EMPLOYEE AS T2 ON T1.EMP_NUM = T2.EMP_NUM JOIN STUDENT AS T3 WHERE T2.EMP_FNAME = 1       \n",
      "['SELECT T1.PROF_HIGH_DEGREE FROM ', ' JOIN STUDENT AS T3 WHERE T2.EMP_FNAME = 1       '] [('PROFESSOR', 'T1', 'EMPLOYEE', 'T2')]\n",
      "('PROFESSOR', 'T1', 'EMPLOYEE', 'T2')\n",
      "SELECT T1.PROF_HIGH_DEGREE FROM PROFESSOR AS T1 JOIN EMPLOYEE AS T2 ON T1.EMP_NUM = T2.EMP_NUM JOIN STUDENT AS T3 WHERE T2.EMP_FNAME = 1       \n",
      "cp -r fdata /tmp/tmpklbzkhkelalala\n",
      "preprocess/run_me.sh /tmp/tmpklbzkhkelalala/tmp.json tables.json /tmp/tmpklbzkhkelalala/fdata/dev.json\n",
      "Loading from datasets...\n",
      "Loading data from /tmp/tmpklbzkhkelalala/fdata/tables.json\n",
      "Loading data from /tmp/tmpklbzkhkelalala/fdata/train.json\n",
      "Loading data from /tmp/tmpklbzkhkelalala/fdata/dev.json\n",
      "[{'db_id': 'college_1', 'query': 'SELECT 1', 'query_toks': ['SELECT', '1'], 'query_toks_no_value': ['select', '1'], 'question': 'fuck you', 'question_toks': ['fuck', 'you'], 'sql': {'except': None, 'from': {'conds': [], 'table_units': [['table_unit', 1]]}, 'groupby': [], 'having': [], 'intersect': None, 'limit': None, 'orderby': [], 'select': [False, [[3, [0, [0, 0, False], None]]]], 'union': None, 'where': []}, 'names': ['*', 'class code', 'course code', 'class section', 'class time', 'class room', 'professor employee number', 'course code', 'department code', 'course description', 'course credit', 'department code', 'department name', 'school code', 'employee number', 'department address', 'department extension', 'employee number', 'employee last name', 'employee first name', 'employee initial', 'employee job code', 'employee hire date', 'employee date of birth', 'class code', 'student number', 'enroll grade', 'employee number', 'department code', 'professor office', 'professor extension', 'professor high degree', 'student num', 'student last name', 'student first name', 'student init', 'student date of birth', 'student class hours took', 'student class', 'student gpa', 'student transfer', 'department code', 'student phone', 'professor number'], 'table_names': ['class', 'course', 'department', 'employee', 'enroll', 'professor', 'student'], 'col_set': ['*', 'class code', 'course code', 'class section', 'class time', 'class room', 'professor employee number', 'department code', 'course description', 'course credit', 'department name', 'school code', 'employee number', 'department address', 'department extension', 'employee last name', 'employee first name', 'employee initial', 'employee job code', 'employee hire date', 'employee date of birth', 'student number', 'enroll grade', 'professor office', 'professor extension', 'professor high degree', 'student num', 'student last name', 'student first name', 'student init', 'student date of birth', 'student class hours took', 'student class', 'student gpa', 'student transfer', 'student phone', 'professor number'], 'col_table': [-1, 0, 0, 0, 0, 0, 0, 1, 1, 1, 1, 2, 2, 2, 2, 2, 2, 3, 3, 3, 3, 3, 3, 3, 4, 4, 4, 5, 5, 5, 5, 5, 6, 6, 6, 6, 6, 6, 6, 6, 6, 6, 6, 6], 'keys': {'6': 17, '17': 17, '2': 7, '7': 7, '8': 11, '11': 11, '14': 17, '25': 32, '32': 32, '24': 1, '1': 1, '28': 11, '27': 17, '41': 11}, 'origin_question_toks': ['fuck', 'you'], 'question_arg': [['fuck'], ['you']], 'question_arg_type': [['NONE'], ['NONE']], 'nltk_pos': [['fuck', 'NN'], ['you', 'PRP']]}]\n",
      "[['fuck'], ['you']]\n"
     ]
    },
    {
     "name": "stderr",
     "output_type": "stream",
     "text": [
      "119.3.148.45 - - [16/Jan/2020 05:51:31] \"GET /query?q=fuck%20you&db=college_1 HTTP/1.0\" 200 -\n"
     ]
    },
    {
     "name": "stdout",
     "output_type": "stream",
     "text": [
      "['SELECT T1.PROF_HIGH_DEGREE FROM PROFESSOR AS T1 JOIN EMPLOYEE AS T2 JOIN STUDENT AS T3 WHERE T2.EMP_FNAME = 1       ', 'SELECT T1.PROF_HIGH_DEGREE FROM PROFESSOR AS T1 JOIN EMPLOYEE AS T2 JOIN STUDENT AS T3 WHERE T2.EMP_FNAME = 1       ', 'SELECT T1.PROF_HIGH_DEGREE FROM PROFESSOR AS T1 JOIN EMPLOYEE AS T2 JOIN STUDENT AS T3 WHERE T2.EMP_FNAME = 1       ', 'SELECT T1.PROF_HIGH_DEGREE FROM PROFESSOR AS T1 JOIN EMPLOYEE AS T2 JOIN STUDENT AS T3 WHERE T2.EMP_FNAME = 1       ', 'SELECT T1.PROF_HIGH_DEGREE FROM PROFESSOR AS T1 JOIN EMPLOYEE AS T2 JOIN STUDENT AS T3 WHERE T2.EMP_FNAME = 1       ', 'SELECT T1.PROF_HIGH_DEGREE FROM PROFESSOR AS T1 JOIN EMPLOYEE AS T2 JOIN STUDENT AS T3 WHERE T2.EMP_FNAME = 1       ', 'SELECT T1.PROF_HIGH_DEGREE FROM PROFESSOR AS T1 JOIN EMPLOYEE AS T2 JOIN STUDENT AS T3 WHERE T2.EMP_FNAME = 1       ', 'SELECT T1.PROF_HIGH_DEGREE FROM PROFESSOR AS T1 JOIN EMPLOYEE AS T2 JOIN STUDENT AS T3 WHERE T2.EMP_FNAME = 1       ', 'SELECT T1.PROF_HIGH_DEGREE FROM PROFESSOR AS T1 JOIN EMPLOYEE AS T2 JOIN STUDENT AS T3 WHERE T2.EMP_FNAME = 1       ', 'SELECT T1.PROF_HIGH_DEGREE FROM PROFESSOR AS T1 JOIN EMPLOYEE AS T2 JOIN STUDENT AS T3 WHERE T2.EMP_FNAME = 1       ']\n",
      "['SELECT T1.PROF_HIGH_DEGREE FROM ', ' JOIN STUDENT AS T3 WHERE T2.EMP_FNAME = 1       '] [('PROFESSOR', 'T1', 'EMPLOYEE', 'T2')]\n",
      "('PROFESSOR', 'T1', 'EMPLOYEE', 'T2')\n",
      "SELECT T1.PROF_HIGH_DEGREE FROM PROFESSOR AS T1 JOIN EMPLOYEE AS T2 ON T1.EMP_NUM = T2.EMP_NUM JOIN STUDENT AS T3 WHERE T2.EMP_FNAME = 1       \n",
      "['SELECT T1.PROF_HIGH_DEGREE FROM ', ' JOIN STUDENT AS T3 WHERE T2.EMP_FNAME = 1       '] [('PROFESSOR', 'T1', 'EMPLOYEE', 'T2')]\n",
      "('PROFESSOR', 'T1', 'EMPLOYEE', 'T2')\n",
      "SELECT T1.PROF_HIGH_DEGREE FROM PROFESSOR AS T1 JOIN EMPLOYEE AS T2 ON T1.EMP_NUM = T2.EMP_NUM JOIN STUDENT AS T3 WHERE T2.EMP_FNAME = 1       \n",
      "['SELECT T1.PROF_HIGH_DEGREE FROM ', ' JOIN STUDENT AS T3 WHERE T2.EMP_FNAME = 1       '] [('PROFESSOR', 'T1', 'EMPLOYEE', 'T2')]\n",
      "('PROFESSOR', 'T1', 'EMPLOYEE', 'T2')\n",
      "SELECT T1.PROF_HIGH_DEGREE FROM PROFESSOR AS T1 JOIN EMPLOYEE AS T2 ON T1.EMP_NUM = T2.EMP_NUM JOIN STUDENT AS T3 WHERE T2.EMP_FNAME = 1       \n",
      "['SELECT T1.PROF_HIGH_DEGREE FROM ', ' JOIN STUDENT AS T3 WHERE T2.EMP_FNAME = 1       '] [('PROFESSOR', 'T1', 'EMPLOYEE', 'T2')]\n",
      "('PROFESSOR', 'T1', 'EMPLOYEE', 'T2')\n",
      "SELECT T1.PROF_HIGH_DEGREE FROM PROFESSOR AS T1 JOIN EMPLOYEE AS T2 ON T1.EMP_NUM = T2.EMP_NUM JOIN STUDENT AS T3 WHERE T2.EMP_FNAME = 1       \n",
      "['SELECT T1.PROF_HIGH_DEGREE FROM ', ' JOIN STUDENT AS T3 WHERE T2.EMP_FNAME = 1       '] [('PROFESSOR', 'T1', 'EMPLOYEE', 'T2')]\n",
      "('PROFESSOR', 'T1', 'EMPLOYEE', 'T2')\n",
      "SELECT T1.PROF_HIGH_DEGREE FROM PROFESSOR AS T1 JOIN EMPLOYEE AS T2 ON T1.EMP_NUM = T2.EMP_NUM JOIN STUDENT AS T3 WHERE T2.EMP_FNAME = 1       \n",
      "['SELECT T1.PROF_HIGH_DEGREE FROM ', ' JOIN STUDENT AS T3 WHERE T2.EMP_FNAME = 1       '] [('PROFESSOR', 'T1', 'EMPLOYEE', 'T2')]\n",
      "('PROFESSOR', 'T1', 'EMPLOYEE', 'T2')\n",
      "SELECT T1.PROF_HIGH_DEGREE FROM PROFESSOR AS T1 JOIN EMPLOYEE AS T2 ON T1.EMP_NUM = T2.EMP_NUM JOIN STUDENT AS T3 WHERE T2.EMP_FNAME = 1       \n",
      "['SELECT T1.PROF_HIGH_DEGREE FROM ', ' JOIN STUDENT AS T3 WHERE T2.EMP_FNAME = 1       '] [('PROFESSOR', 'T1', 'EMPLOYEE', 'T2')]\n",
      "('PROFESSOR', 'T1', 'EMPLOYEE', 'T2')\n",
      "SELECT T1.PROF_HIGH_DEGREE FROM PROFESSOR AS T1 JOIN EMPLOYEE AS T2 ON T1.EMP_NUM = T2.EMP_NUM JOIN STUDENT AS T3 WHERE T2.EMP_FNAME = 1       \n",
      "['SELECT T1.PROF_HIGH_DEGREE FROM ', ' JOIN STUDENT AS T3 WHERE T2.EMP_FNAME = 1       '] [('PROFESSOR', 'T1', 'EMPLOYEE', 'T2')]\n",
      "('PROFESSOR', 'T1', 'EMPLOYEE', 'T2')\n",
      "SELECT T1.PROF_HIGH_DEGREE FROM PROFESSOR AS T1 JOIN EMPLOYEE AS T2 ON T1.EMP_NUM = T2.EMP_NUM JOIN STUDENT AS T3 WHERE T2.EMP_FNAME = 1       \n",
      "['SELECT T1.PROF_HIGH_DEGREE FROM ', ' JOIN STUDENT AS T3 WHERE T2.EMP_FNAME = 1       '] [('PROFESSOR', 'T1', 'EMPLOYEE', 'T2')]\n",
      "('PROFESSOR', 'T1', 'EMPLOYEE', 'T2')\n",
      "SELECT T1.PROF_HIGH_DEGREE FROM PROFESSOR AS T1 JOIN EMPLOYEE AS T2 ON T1.EMP_NUM = T2.EMP_NUM JOIN STUDENT AS T3 WHERE T2.EMP_FNAME = 1       \n",
      "['SELECT T1.PROF_HIGH_DEGREE FROM ', ' JOIN STUDENT AS T3 WHERE T2.EMP_FNAME = 1       '] [('PROFESSOR', 'T1', 'EMPLOYEE', 'T2')]\n",
      "('PROFESSOR', 'T1', 'EMPLOYEE', 'T2')\n",
      "SELECT T1.PROF_HIGH_DEGREE FROM PROFESSOR AS T1 JOIN EMPLOYEE AS T2 ON T1.EMP_NUM = T2.EMP_NUM JOIN STUDENT AS T3 WHERE T2.EMP_FNAME = 1       \n"
     ]
    },
    {
     "name": "stderr",
     "output_type": "stream",
     "text": [
      "159.203.201.164 - - [16/Jan/2020 05:52:35] \"GET /manager/text/list HTTP/1.1\" 404 -\n"
     ]
    },
    {
     "name": "stdout",
     "output_type": "stream",
     "text": [
      "cp -r fdata /tmp/tmpa8nkti34lalala\n",
      "preprocess/run_me.sh /tmp/tmpa8nkti34lalala/tmp.json tables.json /tmp/tmpa8nkti34lalala/fdata/dev.json\n"
     ]
    },
    {
     "name": "stderr",
     "output_type": "stream",
     "text": [
      "119.3.148.45 - - [16/Jan/2020 05:54:32] \"GET /query?q=What+is+the+title+of+the+most+expensive+book%3F&db=book_2&last= HTTP/1.0\" 200 -\n"
     ]
    },
    {
     "name": "stdout",
     "output_type": "stream",
     "text": [
      "Loading from datasets...\n",
      "Loading data from /tmp/tmpa8nkti34lalala/fdata/tables.json\n",
      "Loading data from /tmp/tmpa8nkti34lalala/fdata/train.json\n",
      "Loading data from /tmp/tmpa8nkti34lalala/fdata/dev.json\n",
      "[{'db_id': 'book_2', 'query': 'SELECT 1', 'query_toks': ['SELECT', '1'], 'query_toks_no_value': ['select', '1'], 'question': 'What is the title of the most expensive book?', 'question_toks': ['what', 'is', 'title', 'of', 'most', 'expensive', 'book', '?'], 'sql': {'except': None, 'from': {'conds': [], 'table_units': [['table_unit', 1]]}, 'groupby': [], 'having': [], 'intersect': None, 'limit': None, 'orderby': [], 'select': [False, [[3, [0, [0, 0, False], None]]]], 'union': None, 'where': []}, 'names': ['*', 'publication id', 'book id', 'publisher', 'publication date', 'price', 'book id', 'title', 'issues', 'writer'], 'table_names': ['publication', 'book'], 'col_set': ['*', 'publication id', 'book id', 'publisher', 'publication date', 'price', 'title', 'issues', 'writer'], 'col_table': [-1, 0, 0, 0, 0, 0, 1, 1, 1, 1], 'keys': {'2': 6, '6': 6, '1': 1}, 'origin_question_toks': ['What', 'is', 'the', 'title', 'of', 'the', 'most', 'expensive', 'book', '?'], 'question_arg': [['what'], ['is'], ['title'], ['of'], ['most'], ['expensive'], ['book'], ['?']], 'question_arg_type': [['NONE'], ['NONE'], ['col'], ['NONE'], ['MOST'], ['NONE'], ['table'], ['NONE']], 'nltk_pos': [['what', 'WP'], ['is', 'VBZ'], ['title', 'NN'], ['of', 'IN'], ['most', 'JJS'], ['expensive', 'JJ'], ['book', 'NN'], ['?', '.']]}]\n",
      "[['what'], ['is'], ['column', 'title'], ['of'], ['most'], ['expensive'], ['table', 'book'], ['?']]\n",
      "['SELECT T1.Title FROM book AS T1 JOIN publication AS T2    ORDER BY T2.Price DESC LIMIT 1    ', 'SELECT T1.Title FROM book AS T1 JOIN publication AS T2    ORDER BY T2.Price DESC LIMIT 1    ', 'SELECT T1.Title FROM book AS T1 JOIN publication AS T2    ORDER BY T2.Price DESC LIMIT 1    ', 'SELECT T1.Title FROM book AS T1 JOIN publication AS T2    ORDER BY T2.Price DESC LIMIT 1    ', 'SELECT T1.Title FROM book AS T1 JOIN publication AS T2    ORDER BY T2.Price DESC LIMIT 1    ', 'SELECT T1.Title FROM book AS T1 JOIN publication AS T2    ORDER BY T2.Price DESC LIMIT 1    ', 'SELECT T1.Title FROM book AS T1 JOIN publication AS T2    ORDER BY T2.Price DESC LIMIT 1    ', 'SELECT T1.Title FROM book AS T1 JOIN publication AS T2    ORDER BY T2.Price DESC LIMIT 1    ', 'SELECT T1.Title FROM book AS T1 JOIN publication AS T2    ORDER BY T2.Price DESC LIMIT 1    ', 'SELECT T1.Title FROM book AS T1 JOIN publication AS T2    ORDER BY T2.Price DESC LIMIT 1    ']\n",
      "['SELECT T1.Title FROM ', '    ORDER BY T2.Price DESC LIMIT 1    '] [('book', 'T1', 'publication', 'T2')]\n",
      "('book', 'T1', 'publication', 'T2')\n",
      "SELECT T1.Title FROM book AS T1 JOIN publication AS T2 ON T1.Book_ID = T2.Book_ID    ORDER BY T2.Price DESC LIMIT 1    \n",
      "cp -r fdata /tmp/tmp3_641q_klalala\n",
      "preprocess/run_me.sh /tmp/tmp3_641q_klalala/tmp.json tables.json /tmp/tmp3_641q_klalala/fdata/dev.json\n"
     ]
    },
    {
     "name": "stderr",
     "output_type": "stream",
     "text": [
      "119.3.148.45 - - [16/Jan/2020 05:56:25] \"GET /query?q=What+is+the+title+of+the+most+expensive+book%3F&db=book_2&last= HTTP/1.0\" 200 -\n"
     ]
    },
    {
     "name": "stdout",
     "output_type": "stream",
     "text": [
      "Loading from datasets...\n",
      "Loading data from /tmp/tmp3_641q_klalala/fdata/tables.json\n",
      "Loading data from /tmp/tmp3_641q_klalala/fdata/train.json\n",
      "Loading data from /tmp/tmp3_641q_klalala/fdata/dev.json\n",
      "[{'db_id': 'book_2', 'query': 'SELECT 1', 'query_toks': ['SELECT', '1'], 'query_toks_no_value': ['select', '1'], 'question': 'What is the title of the most expensive book?', 'question_toks': ['what', 'is', 'title', 'of', 'most', 'expensive', 'book', '?'], 'sql': {'except': None, 'from': {'conds': [], 'table_units': [['table_unit', 1]]}, 'groupby': [], 'having': [], 'intersect': None, 'limit': None, 'orderby': [], 'select': [False, [[3, [0, [0, 0, False], None]]]], 'union': None, 'where': []}, 'names': ['*', 'publication id', 'book id', 'publisher', 'publication date', 'price', 'book id', 'title', 'issues', 'writer'], 'table_names': ['publication', 'book'], 'col_set': ['*', 'publication id', 'book id', 'publisher', 'publication date', 'price', 'title', 'issues', 'writer'], 'col_table': [-1, 0, 0, 0, 0, 0, 1, 1, 1, 1], 'keys': {'2': 6, '6': 6, '1': 1}, 'origin_question_toks': ['What', 'is', 'the', 'title', 'of', 'the', 'most', 'expensive', 'book', '?'], 'question_arg': [['what'], ['is'], ['title'], ['of'], ['most'], ['expensive'], ['book'], ['?']], 'question_arg_type': [['NONE'], ['NONE'], ['col'], ['NONE'], ['MOST'], ['NONE'], ['table'], ['NONE']], 'nltk_pos': [['what', 'WP'], ['is', 'VBZ'], ['title', 'NN'], ['of', 'IN'], ['most', 'JJS'], ['expensive', 'JJ'], ['book', 'NN'], ['?', '.']]}]\n",
      "[['what'], ['is'], ['column', 'title'], ['of'], ['most'], ['expensive'], ['table', 'book'], ['?']]\n",
      "['SELECT T1.Title FROM book AS T1 JOIN publication AS T2    ORDER BY T2.Price DESC LIMIT 1    ', 'SELECT T1.Title FROM book AS T1 JOIN publication AS T2    ORDER BY T2.Price DESC LIMIT 1    ', 'SELECT T1.Title FROM book AS T1 JOIN publication AS T2    ORDER BY T2.Price DESC LIMIT 1    ', 'SELECT T1.Title FROM book AS T1 JOIN publication AS T2    ORDER BY T2.Price DESC LIMIT 1    ', 'SELECT T1.Title FROM book AS T1 JOIN publication AS T2    ORDER BY T2.Price DESC LIMIT 1    ', 'SELECT T1.Title FROM book AS T1 JOIN publication AS T2    ORDER BY T2.Price DESC LIMIT 1    ', 'SELECT T1.Title FROM book AS T1 JOIN publication AS T2    ORDER BY T2.Price DESC LIMIT 1    ', 'SELECT T1.Title FROM book AS T1 JOIN publication AS T2    ORDER BY T2.Price DESC LIMIT 1    ', 'SELECT T1.Title FROM book AS T1 JOIN publication AS T2    ORDER BY T2.Price DESC LIMIT 1    ', 'SELECT T1.Title FROM book AS T1 JOIN publication AS T2    ORDER BY T2.Price DESC LIMIT 1    ']\n",
      "['SELECT T1.Title FROM ', '    ORDER BY T2.Price DESC LIMIT 1    '] [('book', 'T1', 'publication', 'T2')]\n",
      "('book', 'T1', 'publication', 'T2')\n",
      "SELECT T1.Title FROM book AS T1 JOIN publication AS T2 ON T1.Book_ID = T2.Book_ID    ORDER BY T2.Price DESC LIMIT 1    \n",
      "cp -r fdata /tmp/tmpsy86o78glalala\n",
      "preprocess/run_me.sh /tmp/tmpsy86o78glalala/tmp.json tables.json /tmp/tmpsy86o78glalala/fdata/dev.json\n",
      "Loading from datasets...\n",
      "Loading data from /tmp/tmpsy86o78glalala/fdata/tables.json\n",
      "Loading data from /tmp/tmpsy86o78glalala/fdata/train.json\n",
      "Loading data from /tmp/tmpsy86o78glalala/fdata/dev.json\n"
     ]
    },
    {
     "name": "stderr",
     "output_type": "stream",
     "text": [
      "119.3.148.45 - - [16/Jan/2020 05:57:10] \"GET /query?q=what+is+the+title+of+the+most+expensive+book&db=book_2&last=The+Black+Lamb HTTP/1.0\" 200 -\n"
     ]
    },
    {
     "name": "stdout",
     "output_type": "stream",
     "text": [
      "[{'db_id': 'book_2', 'query': 'SELECT 1', 'query_toks': ['SELECT', '1'], 'query_toks_no_value': ['select', '1'], 'question': 'what is the title of the most expensive book', 'question_toks': ['what', 'is', 'title', 'of', 'most', 'expensive', 'book'], 'sql': {'except': None, 'from': {'conds': [], 'table_units': [['table_unit', 1]]}, 'groupby': [], 'having': [], 'intersect': None, 'limit': None, 'orderby': [], 'select': [False, [[3, [0, [0, 0, False], None]]]], 'union': None, 'where': []}, 'names': ['*', 'publication id', 'book id', 'publisher', 'publication date', 'price', 'book id', 'title', 'issues', 'writer'], 'table_names': ['publication', 'book'], 'col_set': ['*', 'publication id', 'book id', 'publisher', 'publication date', 'price', 'title', 'issues', 'writer'], 'col_table': [-1, 0, 0, 0, 0, 0, 1, 1, 1, 1], 'keys': {'2': 6, '6': 6, '1': 1}, 'origin_question_toks': ['what', 'is', 'the', 'title', 'of', 'the', 'most', 'expensive', 'book'], 'question_arg': [['what'], ['is'], ['title'], ['of'], ['most'], ['expensive'], ['book']], 'question_arg_type': [['NONE'], ['NONE'], ['col'], ['NONE'], ['MOST'], ['NONE'], ['table']], 'nltk_pos': [['what', 'WP'], ['is', 'VBZ'], ['title', 'NN'], ['of', 'IN'], ['most', 'JJS'], ['expensive', 'JJ'], ['book', 'NN']]}]\n",
      "[['what'], ['is'], ['column', 'title'], ['of'], ['most'], ['expensive'], ['table', 'book']]\n",
      "['SELECT T1.Title FROM book AS T1 JOIN publication AS T2    ORDER BY T2.Price DESC LIMIT 1    ', 'SELECT T1.Title FROM book AS T1 JOIN publication AS T2    ORDER BY T2.Price DESC LIMIT 1    ', 'SELECT T1.Title FROM book AS T1 JOIN publication AS T2    ORDER BY T2.Price DESC LIMIT 1    ', 'SELECT T1.Title FROM book AS T1 JOIN publication AS T2    ORDER BY T2.Price DESC LIMIT 1    ', 'SELECT T1.Title FROM book AS T1 JOIN publication AS T2    ORDER BY T2.Price DESC LIMIT 1    ', 'SELECT T1.Title FROM book AS T1 JOIN publication AS T2    ORDER BY T2.Price DESC LIMIT 1    ', 'SELECT T1.Title FROM book AS T1 JOIN publication AS T2    ORDER BY T2.Price DESC LIMIT 1    ', 'SELECT T1.Title FROM book AS T1 JOIN publication AS T2    ORDER BY T2.Price DESC LIMIT 1    ', 'SELECT T1.Title FROM book AS T1 JOIN publication AS T2    ORDER BY T2.Price DESC LIMIT 1    ', 'SELECT T1.Title FROM book AS T1 JOIN publication AS T2    ORDER BY T2.Price DESC LIMIT 1    ']\n",
      "['SELECT T1.Title FROM ', '    ORDER BY T2.Price DESC LIMIT 1    '] [('book', 'T1', 'publication', 'T2')]\n",
      "('book', 'T1', 'publication', 'T2')\n",
      "SELECT T1.Title FROM book AS T1 JOIN publication AS T2 ON T1.Book_ID = T2.Book_ID    ORDER BY T2.Price DESC LIMIT 1    \n",
      "cp -r fdata /tmp/tmp5cpb6odylalala\n",
      "preprocess/run_me.sh /tmp/tmp5cpb6odylalala/tmp.json tables.json /tmp/tmp5cpb6odylalala/fdata/dev.json\n"
     ]
    },
    {
     "name": "stderr",
     "output_type": "stream",
     "text": [
      "119.3.148.45 - - [16/Jan/2020 05:57:25] \"GET /query?q=What+is+the+title+of+the+most+expensive+book%3F&db=book_2&last=The+Black+Lamb HTTP/1.0\" 200 -\n"
     ]
    },
    {
     "name": "stdout",
     "output_type": "stream",
     "text": [
      "Loading from datasets...\n",
      "Loading data from /tmp/tmp5cpb6odylalala/fdata/tables.json\n",
      "Loading data from /tmp/tmp5cpb6odylalala/fdata/train.json\n",
      "Loading data from /tmp/tmp5cpb6odylalala/fdata/dev.json\n",
      "[{'db_id': 'book_2', 'query': 'SELECT 1', 'query_toks': ['SELECT', '1'], 'query_toks_no_value': ['select', '1'], 'question': 'What is the title of the most expensive book?', 'question_toks': ['what', 'is', 'title', 'of', 'most', 'expensive', 'book', '?'], 'sql': {'except': None, 'from': {'conds': [], 'table_units': [['table_unit', 1]]}, 'groupby': [], 'having': [], 'intersect': None, 'limit': None, 'orderby': [], 'select': [False, [[3, [0, [0, 0, False], None]]]], 'union': None, 'where': []}, 'names': ['*', 'publication id', 'book id', 'publisher', 'publication date', 'price', 'book id', 'title', 'issues', 'writer'], 'table_names': ['publication', 'book'], 'col_set': ['*', 'publication id', 'book id', 'publisher', 'publication date', 'price', 'title', 'issues', 'writer'], 'col_table': [-1, 0, 0, 0, 0, 0, 1, 1, 1, 1], 'keys': {'2': 6, '6': 6, '1': 1}, 'origin_question_toks': ['What', 'is', 'the', 'title', 'of', 'the', 'most', 'expensive', 'book', '?'], 'question_arg': [['what'], ['is'], ['title'], ['of'], ['most'], ['expensive'], ['book'], ['?']], 'question_arg_type': [['NONE'], ['NONE'], ['col'], ['NONE'], ['MOST'], ['NONE'], ['table'], ['NONE']], 'nltk_pos': [['what', 'WP'], ['is', 'VBZ'], ['title', 'NN'], ['of', 'IN'], ['most', 'JJS'], ['expensive', 'JJ'], ['book', 'NN'], ['?', '.']]}]\n",
      "[['what'], ['is'], ['column', 'title'], ['of'], ['most'], ['expensive'], ['table', 'book'], ['?']]\n",
      "['SELECT T1.Title FROM book AS T1 JOIN publication AS T2    ORDER BY T2.Price DESC LIMIT 1    ', 'SELECT T1.Title FROM book AS T1 JOIN publication AS T2    ORDER BY T2.Price DESC LIMIT 1    ', 'SELECT T1.Title FROM book AS T1 JOIN publication AS T2    ORDER BY T2.Price DESC LIMIT 1    ', 'SELECT T1.Title FROM book AS T1 JOIN publication AS T2    ORDER BY T2.Price DESC LIMIT 1    ', 'SELECT T1.Title FROM book AS T1 JOIN publication AS T2    ORDER BY T2.Price DESC LIMIT 1    ', 'SELECT T1.Title FROM book AS T1 JOIN publication AS T2    ORDER BY T2.Price DESC LIMIT 1    ', 'SELECT T1.Title FROM book AS T1 JOIN publication AS T2    ORDER BY T2.Price DESC LIMIT 1    ', 'SELECT T1.Title FROM book AS T1 JOIN publication AS T2    ORDER BY T2.Price DESC LIMIT 1    ', 'SELECT T1.Title FROM book AS T1 JOIN publication AS T2    ORDER BY T2.Price DESC LIMIT 1    ', 'SELECT T1.Title FROM book AS T1 JOIN publication AS T2    ORDER BY T2.Price DESC LIMIT 1    ']\n",
      "['SELECT T1.Title FROM ', '    ORDER BY T2.Price DESC LIMIT 1    '] [('book', 'T1', 'publication', 'T2')]\n",
      "('book', 'T1', 'publication', 'T2')\n",
      "SELECT T1.Title FROM book AS T1 JOIN publication AS T2 ON T1.Book_ID = T2.Book_ID    ORDER BY T2.Price DESC LIMIT 1    \n",
      "cp -r fdata /tmp/tmpj_tvu5czlalala\n",
      "preprocess/run_me.sh /tmp/tmpj_tvu5czlalala/tmp.json tables.json /tmp/tmpj_tvu5czlalala/fdata/dev.json\n"
     ]
    },
    {
     "name": "stderr",
     "output_type": "stream",
     "text": [
      "119.3.148.45 - - [16/Jan/2020 06:00:04] \"GET /query?q=What%27s+the+title+of+the+most+expensive+book&db=book_2&last= HTTP/1.0\" 200 -\n"
     ]
    },
    {
     "name": "stdout",
     "output_type": "stream",
     "text": [
      "Loading from datasets...\n",
      "Loading data from /tmp/tmpj_tvu5czlalala/fdata/tables.json\n",
      "Loading data from /tmp/tmpj_tvu5czlalala/fdata/train.json\n",
      "Loading data from /tmp/tmpj_tvu5czlalala/fdata/dev.json\n",
      "[{'db_id': 'book_2', 'query': 'SELECT 1', 'query_toks': ['SELECT', '1'], 'query_toks_no_value': ['select', '1'], 'question': \"What's the title of the most expensive book\", 'question_toks': [\"what's\", 'title', 'of', 'most', 'expensive', 'book'], 'sql': {'except': None, 'from': {'conds': [], 'table_units': [['table_unit', 1]]}, 'groupby': [], 'having': [], 'intersect': None, 'limit': None, 'orderby': [], 'select': [False, [[3, [0, [0, 0, False], None]]]], 'union': None, 'where': []}, 'names': ['*', 'publication id', 'book id', 'publisher', 'publication date', 'price', 'book id', 'title', 'issues', 'writer'], 'table_names': ['publication', 'book'], 'col_set': ['*', 'publication id', 'book id', 'publisher', 'publication date', 'price', 'title', 'issues', 'writer'], 'col_table': [-1, 0, 0, 0, 0, 0, 1, 1, 1, 1], 'keys': {'2': 6, '6': 6, '1': 1}, 'origin_question_toks': [\"What's\", 'the', 'title', 'of', 'the', 'most', 'expensive', 'book'], 'question_arg': [[\"what's\"], ['title'], ['of'], ['most'], ['expensive'], ['book']], 'question_arg_type': [['NONE'], ['col'], ['NONE'], ['MOST'], ['NONE'], ['table']], 'nltk_pos': [[\"what's\", 'JJ'], ['title', 'NN'], ['of', 'IN'], ['most', 'JJS'], ['expensive', 'JJ'], ['book', 'NN']]}]\n",
      "[[\"what's\"], ['column', 'title'], ['of'], ['most'], ['expensive'], ['table', 'book']]\n",
      "['SELECT T1.Title FROM book AS T1 JOIN publication AS T2    ORDER BY T2.Price DESC LIMIT 1    ', 'SELECT T1.Title FROM book AS T1 JOIN publication AS T2    ORDER BY T2.Price DESC LIMIT 1    ', 'SELECT T1.Title FROM book AS T1 JOIN publication AS T2    ORDER BY T2.Price DESC LIMIT 1    ', 'SELECT T1.Title FROM book AS T1 JOIN publication AS T2    ORDER BY T2.Price DESC LIMIT 1    ', 'SELECT T1.Title FROM book AS T1 JOIN publication AS T2    ORDER BY T2.Price DESC LIMIT 1    ', 'SELECT T1.Title FROM book AS T1 JOIN publication AS T2    ORDER BY T2.Price DESC LIMIT 1    ', 'SELECT T1.Title FROM book AS T1 JOIN publication AS T2    ORDER BY T2.Price DESC LIMIT 1    ', 'SELECT T1.Title FROM book AS T1 JOIN publication AS T2    ORDER BY T2.Price DESC LIMIT 1    ', 'SELECT T1.Title FROM book AS T1 JOIN publication AS T2    ORDER BY T2.Price DESC LIMIT 1    ', 'SELECT T1.Title FROM book AS T1 JOIN publication AS T2    ORDER BY T2.Price DESC LIMIT 1    ']\n",
      "['SELECT T1.Title FROM ', '    ORDER BY T2.Price DESC LIMIT 1    '] [('book', 'T1', 'publication', 'T2')]\n",
      "('book', 'T1', 'publication', 'T2')\n",
      "SELECT T1.Title FROM book AS T1 JOIN publication AS T2 ON T1.Book_ID = T2.Book_ID    ORDER BY T2.Price DESC LIMIT 1    \n",
      "cp -r fdata /tmp/tmp4b8uln7olalala\n",
      "preprocess/run_me.sh /tmp/tmp4b8uln7olalala/tmp.json tables.json /tmp/tmp4b8uln7olalala/fdata/dev.json\n"
     ]
    },
    {
     "name": "stderr",
     "output_type": "stream",
     "text": [
      "119.3.148.45 - - [16/Jan/2020 06:00:08] \"GET /query?q=What%27s+the+title+of+the+most+expensive+book&db=book_2&last= HTTP/1.0\" 200 -\n"
     ]
    },
    {
     "name": "stdout",
     "output_type": "stream",
     "text": [
      "Loading from datasets...\n",
      "Loading data from /tmp/tmp4b8uln7olalala/fdata/tables.json\n",
      "Loading data from /tmp/tmp4b8uln7olalala/fdata/train.json\n",
      "Loading data from /tmp/tmp4b8uln7olalala/fdata/dev.json\n",
      "[{'db_id': 'book_2', 'query': 'SELECT 1', 'query_toks': ['SELECT', '1'], 'query_toks_no_value': ['select', '1'], 'question': \"What's the title of the most expensive book\", 'question_toks': [\"what's\", 'title', 'of', 'most', 'expensive', 'book'], 'sql': {'except': None, 'from': {'conds': [], 'table_units': [['table_unit', 1]]}, 'groupby': [], 'having': [], 'intersect': None, 'limit': None, 'orderby': [], 'select': [False, [[3, [0, [0, 0, False], None]]]], 'union': None, 'where': []}, 'names': ['*', 'publication id', 'book id', 'publisher', 'publication date', 'price', 'book id', 'title', 'issues', 'writer'], 'table_names': ['publication', 'book'], 'col_set': ['*', 'publication id', 'book id', 'publisher', 'publication date', 'price', 'title', 'issues', 'writer'], 'col_table': [-1, 0, 0, 0, 0, 0, 1, 1, 1, 1], 'keys': {'2': 6, '6': 6, '1': 1}, 'origin_question_toks': [\"What's\", 'the', 'title', 'of', 'the', 'most', 'expensive', 'book'], 'question_arg': [[\"what's\"], ['title'], ['of'], ['most'], ['expensive'], ['book']], 'question_arg_type': [['NONE'], ['col'], ['NONE'], ['MOST'], ['NONE'], ['table']], 'nltk_pos': [[\"what's\", 'JJ'], ['title', 'NN'], ['of', 'IN'], ['most', 'JJS'], ['expensive', 'JJ'], ['book', 'NN']]}]\n",
      "[[\"what's\"], ['column', 'title'], ['of'], ['most'], ['expensive'], ['table', 'book']]\n",
      "['SELECT T1.Title FROM book AS T1 JOIN publication AS T2    ORDER BY T2.Price DESC LIMIT 1    ', 'SELECT T1.Title FROM book AS T1 JOIN publication AS T2    ORDER BY T2.Price DESC LIMIT 1    ', 'SELECT T1.Title FROM book AS T1 JOIN publication AS T2    ORDER BY T2.Price DESC LIMIT 1    ', 'SELECT T1.Title FROM book AS T1 JOIN publication AS T2    ORDER BY T2.Price DESC LIMIT 1    ', 'SELECT T1.Title FROM book AS T1 JOIN publication AS T2    ORDER BY T2.Price DESC LIMIT 1    ', 'SELECT T1.Title FROM book AS T1 JOIN publication AS T2    ORDER BY T2.Price DESC LIMIT 1    ', 'SELECT T1.Title FROM book AS T1 JOIN publication AS T2    ORDER BY T2.Price DESC LIMIT 1    ', 'SELECT T1.Title FROM book AS T1 JOIN publication AS T2    ORDER BY T2.Price DESC LIMIT 1    ', 'SELECT T1.Title FROM book AS T1 JOIN publication AS T2    ORDER BY T2.Price DESC LIMIT 1    ', 'SELECT T1.Title FROM book AS T1 JOIN publication AS T2    ORDER BY T2.Price DESC LIMIT 1    ']\n",
      "['SELECT T1.Title FROM ', '    ORDER BY T2.Price DESC LIMIT 1    '] [('book', 'T1', 'publication', 'T2')]\n",
      "('book', 'T1', 'publication', 'T2')\n",
      "SELECT T1.Title FROM book AS T1 JOIN publication AS T2 ON T1.Book_ID = T2.Book_ID    ORDER BY T2.Price DESC LIMIT 1    \n",
      "cp -r fdata /tmp/tmpv8kym8dblalala\n",
      "preprocess/run_me.sh /tmp/tmpv8kym8dblalala/tmp.json tables.json /tmp/tmpv8kym8dblalala/fdata/dev.json\n"
     ]
    },
    {
     "name": "stderr",
     "output_type": "stream",
     "text": [
      "[2020-01-16 06:00:58,720] ERROR in app: Exception on /query [GET]\n",
      "Traceback (most recent call last):\n",
      "  File \"/opt/anaconda3/envs/py36_torch120/lib/python3.6/site-packages/flask/app.py\", line 2446, in wsgi_app\n",
      "    response = self.full_dispatch_request()\n",
      "  File \"/opt/anaconda3/envs/py36_torch120/lib/python3.6/site-packages/flask/app.py\", line 1951, in full_dispatch_request\n",
      "    rv = self.handle_user_exception(e)\n",
      "  File \"/opt/anaconda3/envs/py36_torch120/lib/python3.6/site-packages/flask_cors/extension.py\", line 161, in wrapped_function\n",
      "    return cors_after_request(app.make_response(f(*args, **kwargs)))\n",
      "  File \"/opt/anaconda3/envs/py36_torch120/lib/python3.6/site-packages/flask/app.py\", line 1820, in handle_user_exception\n",
      "    reraise(exc_type, exc_value, tb)\n",
      "  File \"/opt/anaconda3/envs/py36_torch120/lib/python3.6/site-packages/flask/_compat.py\", line 39, in reraise\n",
      "    raise value\n",
      "  File \"/opt/anaconda3/envs/py36_torch120/lib/python3.6/site-packages/flask/app.py\", line 1949, in full_dispatch_request\n",
      "    rv = self.dispatch_request()\n",
      "  File \"/opt/anaconda3/envs/py36_torch120/lib/python3.6/site-packages/flask/app.py\", line 1935, in dispatch_request\n",
      "    return self.view_functions[rule.endpoint](**req.view_args)\n",
      "  File \"<ipython-input-15-d88b34aea88f>\", line 18, in query\n",
      "    sql, val = e2e_execute_demo(q, db_id=db, last='')\n",
      "  File \"<ipython-input-11-335977ca794b>\", line 11, in e2e_execute_demo\n",
      "    sqls = e2e_demo(qstr, db_id=db_id)\n",
      "  File \"<ipython-input-11-335977ca794b>\", line 4, in e2e_demo\n",
      "    ret = do_prediction(db_id=db_id)\n",
      "  File \"<ipython-input-8-4ef39f8aaed8>\", line 109, in do_prediction\n",
      "    results = model.parse(example, args.beam_size)[0]\n",
      "  File \"/home/shengegeek/jupyter/IRNet/src/models/model.py\", line 360, in parse\n",
      "    src_encodings, (last_state, last_cell) = self.encode(batch.src_sents, batch.src_sents_len, None)\n",
      "  File \"/home/shengegeek/jupyter/IRNet/src/models/basic_model.py\", line 57, in encode\n",
      "    src_token_embed = self.gen_x_batch(src_sents_var)\n",
      "  File \"/home/shengegeek/jupyter/IRNet/src/models/basic_model.py\", line 116, in gen_x_batch\n",
      "    if type(q[0][0]) == list:\n",
      "IndexError: list index out of range\n",
      "119.3.148.45 - - [16/Jan/2020 06:00:58] \"GET /query?q=&db=college_1&last= HTTP/1.0\" 500 -\n"
     ]
    },
    {
     "name": "stdout",
     "output_type": "stream",
     "text": [
      "Loading from datasets...\n",
      "Loading data from /tmp/tmpv8kym8dblalala/fdata/tables.json\n",
      "Loading data from /tmp/tmpv8kym8dblalala/fdata/train.json\n",
      "Loading data from /tmp/tmpv8kym8dblalala/fdata/dev.json\n",
      "[{'db_id': 'college_1', 'query': 'SELECT 1', 'query_toks': ['SELECT', '1'], 'query_toks_no_value': ['select', '1'], 'question': '', 'question_toks': [], 'sql': {'except': None, 'from': {'conds': [], 'table_units': [['table_unit', 1]]}, 'groupby': [], 'having': [], 'intersect': None, 'limit': None, 'orderby': [], 'select': [False, [[3, [0, [0, 0, False], None]]]], 'union': None, 'where': []}, 'names': ['*', 'class code', 'course code', 'class section', 'class time', 'class room', 'professor employee number', 'course code', 'department code', 'course description', 'course credit', 'department code', 'department name', 'school code', 'employee number', 'department address', 'department extension', 'employee number', 'employee last name', 'employee first name', 'employee initial', 'employee job code', 'employee hire date', 'employee date of birth', 'class code', 'student number', 'enroll grade', 'employee number', 'department code', 'professor office', 'professor extension', 'professor high degree', 'student num', 'student last name', 'student first name', 'student init', 'student date of birth', 'student class hours took', 'student class', 'student gpa', 'student transfer', 'department code', 'student phone', 'professor number'], 'table_names': ['class', 'course', 'department', 'employee', 'enroll', 'professor', 'student'], 'col_set': ['*', 'class code', 'course code', 'class section', 'class time', 'class room', 'professor employee number', 'department code', 'course description', 'course credit', 'department name', 'school code', 'employee number', 'department address', 'department extension', 'employee last name', 'employee first name', 'employee initial', 'employee job code', 'employee hire date', 'employee date of birth', 'student number', 'enroll grade', 'professor office', 'professor extension', 'professor high degree', 'student num', 'student last name', 'student first name', 'student init', 'student date of birth', 'student class hours took', 'student class', 'student gpa', 'student transfer', 'student phone', 'professor number'], 'col_table': [-1, 0, 0, 0, 0, 0, 0, 1, 1, 1, 1, 2, 2, 2, 2, 2, 2, 3, 3, 3, 3, 3, 3, 3, 4, 4, 4, 5, 5, 5, 5, 5, 6, 6, 6, 6, 6, 6, 6, 6, 6, 6, 6, 6], 'keys': {'6': 17, '17': 17, '2': 7, '7': 7, '8': 11, '11': 11, '14': 17, '25': 32, '32': 32, '24': 1, '1': 1, '28': 11, '27': 17, '41': 11}, 'origin_question_toks': [], 'question_arg': [], 'question_arg_type': [], 'nltk_pos': []}]\n",
      "[]\n",
      "cp -r fdata /tmp/tmpeeb_6fa0lalala\n",
      "preprocess/run_me.sh /tmp/tmpeeb_6fa0lalala/tmp.json tables.json /tmp/tmpeeb_6fa0lalala/fdata/dev.json\n"
     ]
    },
    {
     "name": "stderr",
     "output_type": "stream",
     "text": [
      "[2020-01-16 06:01:06,040] ERROR in app: Exception on /query [GET]\n",
      "Traceback (most recent call last):\n",
      "  File \"/opt/anaconda3/envs/py36_torch120/lib/python3.6/site-packages/flask/app.py\", line 2446, in wsgi_app\n",
      "    response = self.full_dispatch_request()\n",
      "  File \"/opt/anaconda3/envs/py36_torch120/lib/python3.6/site-packages/flask/app.py\", line 1951, in full_dispatch_request\n",
      "    rv = self.handle_user_exception(e)\n",
      "  File \"/opt/anaconda3/envs/py36_torch120/lib/python3.6/site-packages/flask_cors/extension.py\", line 161, in wrapped_function\n",
      "    return cors_after_request(app.make_response(f(*args, **kwargs)))\n",
      "  File \"/opt/anaconda3/envs/py36_torch120/lib/python3.6/site-packages/flask/app.py\", line 1820, in handle_user_exception\n",
      "    reraise(exc_type, exc_value, tb)\n",
      "  File \"/opt/anaconda3/envs/py36_torch120/lib/python3.6/site-packages/flask/_compat.py\", line 39, in reraise\n",
      "    raise value\n",
      "  File \"/opt/anaconda3/envs/py36_torch120/lib/python3.6/site-packages/flask/app.py\", line 1949, in full_dispatch_request\n",
      "    rv = self.dispatch_request()\n",
      "  File \"/opt/anaconda3/envs/py36_torch120/lib/python3.6/site-packages/flask/app.py\", line 1935, in dispatch_request\n",
      "    return self.view_functions[rule.endpoint](**req.view_args)\n",
      "  File \"<ipython-input-15-d88b34aea88f>\", line 18, in query\n",
      "    sql, val = e2e_execute_demo(q, db_id=db, last='')\n",
      "  File \"<ipython-input-11-335977ca794b>\", line 11, in e2e_execute_demo\n",
      "    sqls = e2e_demo(qstr, db_id=db_id)\n",
      "  File \"<ipython-input-11-335977ca794b>\", line 4, in e2e_demo\n",
      "    ret = do_prediction(db_id=db_id)\n",
      "  File \"<ipython-input-8-4ef39f8aaed8>\", line 109, in do_prediction\n",
      "    results = model.parse(example, args.beam_size)[0]\n",
      "  File \"/home/shengegeek/jupyter/IRNet/src/models/model.py\", line 360, in parse\n",
      "    src_encodings, (last_state, last_cell) = self.encode(batch.src_sents, batch.src_sents_len, None)\n",
      "  File \"/home/shengegeek/jupyter/IRNet/src/models/basic_model.py\", line 57, in encode\n",
      "    src_token_embed = self.gen_x_batch(src_sents_var)\n",
      "  File \"/home/shengegeek/jupyter/IRNet/src/models/basic_model.py\", line 116, in gen_x_batch\n",
      "    if type(q[0][0]) == list:\n",
      "IndexError: list index out of range\n",
      "119.3.148.45 - - [16/Jan/2020 06:01:06] \"GET /query?q=&db=college_1&last= HTTP/1.0\" 500 -\n"
     ]
    },
    {
     "name": "stdout",
     "output_type": "stream",
     "text": [
      "Loading from datasets...\n",
      "Loading data from /tmp/tmpeeb_6fa0lalala/fdata/tables.json\n",
      "Loading data from /tmp/tmpeeb_6fa0lalala/fdata/train.json\n",
      "Loading data from /tmp/tmpeeb_6fa0lalala/fdata/dev.json\n",
      "[{'db_id': 'college_1', 'query': 'SELECT 1', 'query_toks': ['SELECT', '1'], 'query_toks_no_value': ['select', '1'], 'question': '', 'question_toks': [], 'sql': {'except': None, 'from': {'conds': [], 'table_units': [['table_unit', 1]]}, 'groupby': [], 'having': [], 'intersect': None, 'limit': None, 'orderby': [], 'select': [False, [[3, [0, [0, 0, False], None]]]], 'union': None, 'where': []}, 'names': ['*', 'class code', 'course code', 'class section', 'class time', 'class room', 'professor employee number', 'course code', 'department code', 'course description', 'course credit', 'department code', 'department name', 'school code', 'employee number', 'department address', 'department extension', 'employee number', 'employee last name', 'employee first name', 'employee initial', 'employee job code', 'employee hire date', 'employee date of birth', 'class code', 'student number', 'enroll grade', 'employee number', 'department code', 'professor office', 'professor extension', 'professor high degree', 'student num', 'student last name', 'student first name', 'student init', 'student date of birth', 'student class hours took', 'student class', 'student gpa', 'student transfer', 'department code', 'student phone', 'professor number'], 'table_names': ['class', 'course', 'department', 'employee', 'enroll', 'professor', 'student'], 'col_set': ['*', 'class code', 'course code', 'class section', 'class time', 'class room', 'professor employee number', 'department code', 'course description', 'course credit', 'department name', 'school code', 'employee number', 'department address', 'department extension', 'employee last name', 'employee first name', 'employee initial', 'employee job code', 'employee hire date', 'employee date of birth', 'student number', 'enroll grade', 'professor office', 'professor extension', 'professor high degree', 'student num', 'student last name', 'student first name', 'student init', 'student date of birth', 'student class hours took', 'student class', 'student gpa', 'student transfer', 'student phone', 'professor number'], 'col_table': [-1, 0, 0, 0, 0, 0, 0, 1, 1, 1, 1, 2, 2, 2, 2, 2, 2, 3, 3, 3, 3, 3, 3, 3, 4, 4, 4, 5, 5, 5, 5, 5, 6, 6, 6, 6, 6, 6, 6, 6, 6, 6, 6, 6], 'keys': {'6': 17, '17': 17, '2': 7, '7': 7, '8': 11, '11': 11, '14': 17, '25': 32, '32': 32, '24': 1, '1': 1, '28': 11, '27': 17, '41': 11}, 'origin_question_toks': [], 'question_arg': [], 'question_arg_type': [], 'nltk_pos': []}]\n",
      "[]\n",
      "cp -r fdata /tmp/tmp2agihrptlalala\n",
      "preprocess/run_me.sh /tmp/tmp2agihrptlalala/tmp.json tables.json /tmp/tmp2agihrptlalala/fdata/dev.json\n",
      "Loading from datasets...\n",
      "Loading data from /tmp/tmp2agihrptlalala/fdata/tables.json\n",
      "Loading data from /tmp/tmp2agihrptlalala/fdata/train.json\n",
      "Loading data from /tmp/tmp2agihrptlalala/fdata/dev.json\n"
     ]
    },
    {
     "name": "stderr",
     "output_type": "stream",
     "text": [
      "119.3.148.45 - - [16/Jan/2020 06:01:32] \"GET /query?q=What%27s+the+total+price+of+all+books%3F&db=book_2&last= HTTP/1.0\" 200 -\n"
     ]
    },
    {
     "name": "stdout",
     "output_type": "stream",
     "text": [
      "[{'db_id': 'book_2', 'query': 'SELECT 1', 'query_toks': ['SELECT', '1'], 'query_toks_no_value': ['select', '1'], 'question': \"What's the total price of all books?\", 'question_toks': [\"what's\", 'total', 'price', 'of', 'all', 'book', '?'], 'sql': {'except': None, 'from': {'conds': [], 'table_units': [['table_unit', 1]]}, 'groupby': [], 'having': [], 'intersect': None, 'limit': None, 'orderby': [], 'select': [False, [[3, [0, [0, 0, False], None]]]], 'union': None, 'where': []}, 'names': ['*', 'publication id', 'book id', 'publisher', 'publication date', 'price', 'book id', 'title', 'issues', 'writer'], 'table_names': ['publication', 'book'], 'col_set': ['*', 'publication id', 'book id', 'publisher', 'publication date', 'price', 'title', 'issues', 'writer'], 'col_table': [-1, 0, 0, 0, 0, 0, 1, 1, 1, 1], 'keys': {'2': 6, '6': 6, '1': 1}, 'origin_question_toks': [\"What's\", 'the', 'total', 'price', 'of', 'all', 'books', '?'], 'question_arg': [[\"what's\"], ['total'], ['price'], ['of'], ['all'], ['book'], ['?']], 'question_arg_type': [['NONE'], ['NONE'], ['col'], ['NONE'], ['NONE'], ['table'], ['NONE']], 'nltk_pos': [[\"what's\", 'JJ'], ['total', 'JJ'], ['price', 'NN'], ['of', 'IN'], ['all', 'DT'], ['book', 'NN'], ['?', '.']]}]\n",
      "[[\"what's\"], ['total'], ['column', 'price'], ['of'], ['all'], ['table', 'book'], ['?']]\n",
      "['SELECT sum(T1.Price) FROM publication AS T1        ', 'SELECT sum(T1.Price) FROM publication AS T1        ', 'SELECT sum(T1.Price) FROM publication AS T1        ', 'SELECT sum(T1.Price) FROM publication AS T1        ', 'SELECT sum(T1.Price) FROM publication AS T1        ', 'SELECT sum(T1.Price) FROM publication AS T1        ', 'SELECT sum(T1.Price) FROM publication AS T1        ', 'SELECT sum(T1.Price) FROM publication AS T1        ', 'SELECT sum(T1.Price) FROM publication AS T1        ', 'SELECT sum(T1.Price) FROM publication AS T1        ']\n",
      "['SELECT sum(T1.Price) FROM publication AS T1        '] []\n",
      "SELECT sum(T1.Price) FROM publication AS T1        \n"
     ]
    },
    {
     "name": "stderr",
     "output_type": "stream",
     "text": [
      "198.108.66.208 - - [16/Jan/2020 06:06:44] code 400, message Bad HTTP/0.9 request type ('\\x16\\x03\\x01\\x00\\x86\\x01\\x00\\x00\\x82\\x03\\x03ÔÜ\\x06\\x8aÒ¨tþm´Ç\\\\\\x00þÇ\\x82êX\\x08©w\\x10\\x02¢')\n",
      "198.108.66.208 - - [16/Jan/2020 06:06:44] \"\u0016\u0003\u0001\u0000\u0001\u0000\u0000\u0003\u0003ÔÜ\u0006Ò¨tþm´Ç\\\u0000þÇê©w\u0010\u0002¢\u000b",
      " f\u001a$0©Ú\u0000\u0000\u0006\u0000\u0003\u0000\u0006\u0001\u0000\u0000S\u0000\u0005\u0000\u0005\u0001\u0000\u0000\u0000\u0000\u0000\" HTTPStatus.BAD_REQUEST -\n"
     ]
    },
    {
     "name": "stdout",
     "output_type": "stream",
     "text": [
      "cp -r fdata /tmp/tmpzt1aia15lalala\n",
      "preprocess/run_me.sh /tmp/tmpzt1aia15lalala/tmp.json tables.json /tmp/tmpzt1aia15lalala/fdata/dev.json\n"
     ]
    },
    {
     "name": "stderr",
     "output_type": "stream",
     "text": [
      "119.3.148.45 - - [16/Jan/2020 06:07:19] \"GET /query?q=What%27s+the+title+of+the+most+expensive+book&db=book_2&last= HTTP/1.0\" 200 -\n"
     ]
    },
    {
     "name": "stdout",
     "output_type": "stream",
     "text": [
      "Loading from datasets...\n",
      "Loading data from /tmp/tmpzt1aia15lalala/fdata/tables.json\n",
      "Loading data from /tmp/tmpzt1aia15lalala/fdata/train.json\n",
      "Loading data from /tmp/tmpzt1aia15lalala/fdata/dev.json\n",
      "[{'db_id': 'book_2', 'query': 'SELECT 1', 'query_toks': ['SELECT', '1'], 'query_toks_no_value': ['select', '1'], 'question': \"What's the title of the most expensive book\", 'question_toks': [\"what's\", 'title', 'of', 'most', 'expensive', 'book'], 'sql': {'except': None, 'from': {'conds': [], 'table_units': [['table_unit', 1]]}, 'groupby': [], 'having': [], 'intersect': None, 'limit': None, 'orderby': [], 'select': [False, [[3, [0, [0, 0, False], None]]]], 'union': None, 'where': []}, 'names': ['*', 'publication id', 'book id', 'publisher', 'publication date', 'price', 'book id', 'title', 'issues', 'writer'], 'table_names': ['publication', 'book'], 'col_set': ['*', 'publication id', 'book id', 'publisher', 'publication date', 'price', 'title', 'issues', 'writer'], 'col_table': [-1, 0, 0, 0, 0, 0, 1, 1, 1, 1], 'keys': {'2': 6, '6': 6, '1': 1}, 'origin_question_toks': [\"What's\", 'the', 'title', 'of', 'the', 'most', 'expensive', 'book'], 'question_arg': [[\"what's\"], ['title'], ['of'], ['most'], ['expensive'], ['book']], 'question_arg_type': [['NONE'], ['col'], ['NONE'], ['MOST'], ['NONE'], ['table']], 'nltk_pos': [[\"what's\", 'JJ'], ['title', 'NN'], ['of', 'IN'], ['most', 'JJS'], ['expensive', 'JJ'], ['book', 'NN']]}]\n",
      "[[\"what's\"], ['column', 'title'], ['of'], ['most'], ['expensive'], ['table', 'book']]\n",
      "['SELECT T1.Title FROM book AS T1 JOIN publication AS T2    ORDER BY T2.Price DESC LIMIT 1    ', 'SELECT T1.Title FROM book AS T1 JOIN publication AS T2    ORDER BY T2.Price DESC LIMIT 1    ', 'SELECT T1.Title FROM book AS T1 JOIN publication AS T2    ORDER BY T2.Price DESC LIMIT 1    ', 'SELECT T1.Title FROM book AS T1 JOIN publication AS T2    ORDER BY T2.Price DESC LIMIT 1    ', 'SELECT T1.Title FROM book AS T1 JOIN publication AS T2    ORDER BY T2.Price DESC LIMIT 1    ', 'SELECT T1.Title FROM book AS T1 JOIN publication AS T2    ORDER BY T2.Price DESC LIMIT 1    ', 'SELECT T1.Title FROM book AS T1 JOIN publication AS T2    ORDER BY T2.Price DESC LIMIT 1    ', 'SELECT T1.Title FROM book AS T1 JOIN publication AS T2    ORDER BY T2.Price DESC LIMIT 1    ', 'SELECT T1.Title FROM book AS T1 JOIN publication AS T2    ORDER BY T2.Price DESC LIMIT 1    ', 'SELECT T1.Title FROM book AS T1 JOIN publication AS T2    ORDER BY T2.Price DESC LIMIT 1    ']\n",
      "['SELECT T1.Title FROM ', '    ORDER BY T2.Price DESC LIMIT 1    '] [('book', 'T1', 'publication', 'T2')]\n",
      "('book', 'T1', 'publication', 'T2')\n",
      "SELECT T1.Title FROM book AS T1 JOIN publication AS T2 ON T1.Book_ID = T2.Book_ID    ORDER BY T2.Price DESC LIMIT 1    \n",
      "cp -r fdata /tmp/tmp2nakcsowlalala\n",
      "preprocess/run_me.sh /tmp/tmp2nakcsowlalala/tmp.json tables.json /tmp/tmp2nakcsowlalala/fdata/dev.json\n"
     ]
    },
    {
     "name": "stderr",
     "output_type": "stream",
     "text": [
      "119.3.148.45 - - [16/Jan/2020 06:07:56] \"GET /query?q=what%27s+the+author+of+the+book+The+Block&db=book_2&last=The+Black+Lamb HTTP/1.0\" 200 -\n"
     ]
    },
    {
     "name": "stdout",
     "output_type": "stream",
     "text": [
      "Loading from datasets...\n",
      "Loading data from /tmp/tmp2nakcsowlalala/fdata/tables.json\n",
      "Loading data from /tmp/tmp2nakcsowlalala/fdata/train.json\n",
      "Loading data from /tmp/tmp2nakcsowlalala/fdata/dev.json\n",
      "[{'db_id': 'book_2', 'query': 'SELECT 1', 'query_toks': ['SELECT', '1'], 'query_toks_no_value': ['select', '1'], 'question': \"what's the author of the book The Block\", 'question_toks': [\"what's\", 'author', 'of', 'book', 'block'], 'sql': {'except': None, 'from': {'conds': [], 'table_units': [['table_unit', 1]]}, 'groupby': [], 'having': [], 'intersect': None, 'limit': None, 'orderby': [], 'select': [False, [[3, [0, [0, 0, False], None]]]], 'union': None, 'where': []}, 'names': ['*', 'publication id', 'book id', 'publisher', 'publication date', 'price', 'book id', 'title', 'issues', 'writer'], 'table_names': ['publication', 'book'], 'col_set': ['*', 'publication id', 'book id', 'publisher', 'publication date', 'price', 'title', 'issues', 'writer'], 'col_table': [-1, 0, 0, 0, 0, 0, 1, 1, 1, 1], 'keys': {'2': 6, '6': 6, '1': 1}, 'origin_question_toks': [\"what's\", 'the', 'author', 'of', 'the', 'book', 'The', 'Block'], 'question_arg': [[\"what's\"], ['author'], ['of'], ['book'], ['block']], 'question_arg_type': [['NONE'], ['NONE'], ['NONE'], ['table'], ['NONE']], 'nltk_pos': [[\"what's\", 'JJ'], ['author', 'NN'], ['of', 'IN'], ['book', 'NN'], ['block', 'NN']]}]\n",
      "[[\"what's\"], ['author'], ['of'], ['table', 'book'], ['block']]\n",
      "['SELECT T1.Publisher FROM publication AS T1 JOIN book AS T2 WHERE T2.Title = 1       ', 'SELECT T1.Publisher FROM publication AS T1 JOIN book AS T2 WHERE T2.Title = 1       ', 'SELECT T1.Publisher FROM publication AS T1 JOIN book AS T2 WHERE T2.Title = 1       ', 'SELECT T1.Publisher FROM publication AS T1 JOIN book AS T2 WHERE T2.Title = 1       ', 'SELECT T1.Publisher FROM publication AS T1 JOIN book AS T2 WHERE T2.Title = 1       ', 'SELECT T1.Publisher FROM publication AS T1 JOIN book AS T2 WHERE T2.Title = 1       ', 'SELECT T1.Publisher FROM publication AS T1 JOIN book AS T2 WHERE T2.Title = 1       ', 'SELECT T1.Publisher FROM publication AS T1 JOIN book AS T2 WHERE T2.Title = 1       ', 'SELECT T1.Publisher FROM publication AS T1 JOIN book AS T2 WHERE T2.Title = 1       ', 'SELECT T1.Publisher FROM publication AS T1 JOIN book AS T2 WHERE T2.Title = 1       ']\n",
      "['SELECT T1.Publisher FROM ', ' WHERE T2.Title = 1       '] [('publication', 'T1', 'book', 'T2')]\n",
      "('publication', 'T1', 'book', 'T2')\n",
      "SELECT T1.Publisher FROM publication AS T1 JOIN book AS T2 ON T1.Book_ID = T2.Book_ID WHERE T2.Title = 1       \n",
      "['SELECT T1.Publisher FROM ', ' WHERE T2.Title = 1       '] [('publication', 'T1', 'book', 'T2')]\n",
      "('publication', 'T1', 'book', 'T2')\n",
      "SELECT T1.Publisher FROM publication AS T1 JOIN book AS T2 ON T1.Book_ID = T2.Book_ID WHERE T2.Title = 1       \n",
      "['SELECT T1.Publisher FROM ', ' WHERE T2.Title = 1       '] [('publication', 'T1', 'book', 'T2')]\n",
      "('publication', 'T1', 'book', 'T2')\n",
      "SELECT T1.Publisher FROM publication AS T1 JOIN book AS T2 ON T1.Book_ID = T2.Book_ID WHERE T2.Title = 1       \n",
      "['SELECT T1.Publisher FROM ', ' WHERE T2.Title = 1       '] [('publication', 'T1', 'book', 'T2')]\n",
      "('publication', 'T1', 'book', 'T2')\n",
      "SELECT T1.Publisher FROM publication AS T1 JOIN book AS T2 ON T1.Book_ID = T2.Book_ID WHERE T2.Title = 1       \n",
      "['SELECT T1.Publisher FROM ', ' WHERE T2.Title = 1       '] [('publication', 'T1', 'book', 'T2')]\n",
      "('publication', 'T1', 'book', 'T2')\n",
      "SELECT T1.Publisher FROM publication AS T1 JOIN book AS T2 ON T1.Book_ID = T2.Book_ID WHERE T2.Title = 1       \n",
      "['SELECT T1.Publisher FROM ', ' WHERE T2.Title = 1       '] [('publication', 'T1', 'book', 'T2')]\n",
      "('publication', 'T1', 'book', 'T2')\n",
      "SELECT T1.Publisher FROM publication AS T1 JOIN book AS T2 ON T1.Book_ID = T2.Book_ID WHERE T2.Title = 1       \n",
      "['SELECT T1.Publisher FROM ', ' WHERE T2.Title = 1       '] [('publication', 'T1', 'book', 'T2')]\n",
      "('publication', 'T1', 'book', 'T2')\n",
      "SELECT T1.Publisher FROM publication AS T1 JOIN book AS T2 ON T1.Book_ID = T2.Book_ID WHERE T2.Title = 1       \n",
      "['SELECT T1.Publisher FROM ', ' WHERE T2.Title = 1       '] [('publication', 'T1', 'book', 'T2')]\n",
      "('publication', 'T1', 'book', 'T2')\n",
      "SELECT T1.Publisher FROM publication AS T1 JOIN book AS T2 ON T1.Book_ID = T2.Book_ID WHERE T2.Title = 1       \n",
      "['SELECT T1.Publisher FROM ', ' WHERE T2.Title = 1       '] [('publication', 'T1', 'book', 'T2')]\n",
      "('publication', 'T1', 'book', 'T2')\n",
      "SELECT T1.Publisher FROM publication AS T1 JOIN book AS T2 ON T1.Book_ID = T2.Book_ID WHERE T2.Title = 1       \n",
      "['SELECT T1.Publisher FROM ', ' WHERE T2.Title = 1       '] [('publication', 'T1', 'book', 'T2')]\n",
      "('publication', 'T1', 'book', 'T2')\n",
      "SELECT T1.Publisher FROM publication AS T1 JOIN book AS T2 ON T1.Book_ID = T2.Book_ID WHERE T2.Title = 1       \n",
      "cp -r fdata /tmp/tmpa8382qvulalala\n",
      "preprocess/run_me.sh /tmp/tmpa8382qvulalala/tmp.json tables.json /tmp/tmpa8382qvulalala/fdata/dev.json\n",
      "Loading from datasets...\n",
      "Loading data from /tmp/tmpa8382qvulalala/fdata/tables.json\n",
      "Loading data from /tmp/tmpa8382qvulalala/fdata/train.json\n",
      "Loading data from /tmp/tmpa8382qvulalala/fdata/dev.json\n",
      "[{'db_id': 'college_1', 'query': 'SELECT 1', 'query_toks': ['SELECT', '1'], 'query_toks_no_value': ['select', '1'], 'question': 'is it altar of Dipping tobacco', 'question_toks': ['is', 'it', 'altar', 'of', 'dipping', 'tobacco'], 'sql': {'except': None, 'from': {'conds': [], 'table_units': [['table_unit', 1]]}, 'groupby': [], 'having': [], 'intersect': None, 'limit': None, 'orderby': [], 'select': [False, [[3, [0, [0, 0, False], None]]]], 'union': None, 'where': []}, 'names': ['*', 'class code', 'course code', 'class section', 'class time', 'class room', 'professor employee number', 'course code', 'department code', 'course description', 'course credit', 'department code', 'department name', 'school code', 'employee number', 'department address', 'department extension', 'employee number', 'employee last name', 'employee first name', 'employee initial', 'employee job code', 'employee hire date', 'employee date of birth', 'class code', 'student number', 'enroll grade', 'employee number', 'department code', 'professor office', 'professor extension', 'professor high degree', 'student num', 'student last name', 'student first name', 'student init', 'student date of birth', 'student class hours took', 'student class', 'student gpa', 'student transfer', 'department code', 'student phone', 'professor number'], 'table_names': ['class', 'course', 'department', 'employee', 'enroll', 'professor', 'student'], 'col_set': ['*', 'class code', 'course code', 'class section', 'class time', 'class room', 'professor employee number', 'department code', 'course description', 'course credit', 'department name', 'school code', 'employee number', 'department address', 'department extension', 'employee last name', 'employee first name', 'employee initial', 'employee job code', 'employee hire date', 'employee date of birth', 'student number', 'enroll grade', 'professor office', 'professor extension', 'professor high degree', 'student num', 'student last name', 'student first name', 'student init', 'student date of birth', 'student class hours took', 'student class', 'student gpa', 'student transfer', 'student phone', 'professor number'], 'col_table': [-1, 0, 0, 0, 0, 0, 0, 1, 1, 1, 1, 2, 2, 2, 2, 2, 2, 3, 3, 3, 3, 3, 3, 3, 4, 4, 4, 5, 5, 5, 5, 5, 6, 6, 6, 6, 6, 6, 6, 6, 6, 6, 6, 6], 'keys': {'6': 17, '17': 17, '2': 7, '7': 7, '8': 11, '11': 11, '14': 17, '25': 32, '32': 32, '24': 1, '1': 1, '28': 11, '27': 17, '41': 11}, 'origin_question_toks': ['is', 'it', 'altar', 'of', 'Dipping', 'tobacco'], 'question_arg': [['is'], ['it'], ['altar'], ['of'], ['dipping'], ['tobacco']], 'question_arg_type': [['NONE'], ['NONE'], ['NONE'], ['NONE'], ['NONE'], ['NONE']], 'nltk_pos': [['is', 'VBZ'], ['it', 'PRP'], ['altar', 'NN'], ['of', 'IN'], ['dipping', 'VBG'], ['tobacco', 'NN']]}]\n",
      "[['is'], ['it'], ['altar'], ['of'], ['dipping'], ['tobacco']]\n"
     ]
    },
    {
     "name": "stderr",
     "output_type": "stream",
     "text": [
      "119.3.148.45 - - [16/Jan/2020 06:08:24] \"GET /query?q=is+it+altar+of+Dipping+tobacco&db=college_1&last= HTTP/1.0\" 200 -\n"
     ]
    },
    {
     "name": "stdout",
     "output_type": "stream",
     "text": [
      "['SELECT T1.STU_DOB, T1.STU_LNAME FROM STUDENT AS T1 JOIN COURSE AS T2 JOIN PROFESSOR AS T3 WHERE T2.CRS_CREDIT > 1       ', 'SELECT T1.STU_DOB, T1.STU_LNAME FROM STUDENT AS T1 JOIN COURSE AS T2 JOIN PROFESSOR AS T3 WHERE T2.CRS_CREDIT > 1       ', 'SELECT T1.STU_DOB, T1.STU_LNAME FROM STUDENT AS T1 JOIN COURSE AS T2 JOIN PROFESSOR AS T3 WHERE T2.CRS_CREDIT > 1       ', 'SELECT T1.STU_DOB, T1.STU_LNAME FROM STUDENT AS T1 JOIN COURSE AS T2 JOIN PROFESSOR AS T3 WHERE T2.CRS_CREDIT > 1       ', 'SELECT T1.STU_DOB, T1.STU_LNAME FROM STUDENT AS T1 JOIN COURSE AS T2 JOIN PROFESSOR AS T3 WHERE T2.CRS_CREDIT > 1       ', 'SELECT T1.STU_DOB, T1.STU_LNAME FROM STUDENT AS T1 JOIN COURSE AS T2 JOIN PROFESSOR AS T3 WHERE T2.CRS_CREDIT > 1       ', 'SELECT T1.STU_DOB, T1.STU_LNAME FROM STUDENT AS T1 JOIN COURSE AS T2 JOIN PROFESSOR AS T3 WHERE T2.CRS_CREDIT > 1       ', 'SELECT T1.STU_DOB, T1.STU_LNAME FROM STUDENT AS T1 JOIN COURSE AS T2 JOIN PROFESSOR AS T3 WHERE T2.CRS_CREDIT > 1       ', 'SELECT T1.STU_DOB, T1.STU_LNAME FROM STUDENT AS T1 JOIN COURSE AS T2 JOIN PROFESSOR AS T3 WHERE T2.CRS_CREDIT > 1       ', 'SELECT T1.STU_DOB, T1.STU_LNAME FROM STUDENT AS T1 JOIN COURSE AS T2 JOIN PROFESSOR AS T3 WHERE T2.CRS_CREDIT > 1       ']\n",
      "['SELECT T1.STU_DOB, T1.STU_LNAME FROM ', ' JOIN PROFESSOR AS T3 WHERE T2.CRS_CREDIT > 1       '] [('STUDENT', 'T1', 'COURSE', 'T2')]\n",
      "('STUDENT', 'T1', 'COURSE', 'T2')\n",
      "SELECT T1.STU_DOB, T1.STU_LNAME FROM STUDENT AS T1 JOIN COURSE AS T2 ON T1.DEPT_CODE = T2.DEPT_CODE JOIN PROFESSOR AS T3 WHERE T2.CRS_CREDIT > 1       \n",
      "cp -r fdata /tmp/tmps5209gp_lalala\n",
      "preprocess/run_me.sh /tmp/tmps5209gp_lalala/tmp.json tables.json /tmp/tmps5209gp_lalala/fdata/dev.json\n"
     ]
    },
    {
     "name": "stderr",
     "output_type": "stream",
     "text": [
      "119.3.148.45 - - [16/Jan/2020 07:04:52] \"GET /query?q=What+is+the+title+of+the+most+expensive+book%3F&db=book_2&last= HTTP/1.0\" 200 -\n"
     ]
    },
    {
     "name": "stdout",
     "output_type": "stream",
     "text": [
      "Loading from datasets...\n",
      "Loading data from /tmp/tmps5209gp_lalala/fdata/tables.json\n",
      "Loading data from /tmp/tmps5209gp_lalala/fdata/train.json\n",
      "Loading data from /tmp/tmps5209gp_lalala/fdata/dev.json\n",
      "[{'db_id': 'book_2', 'query': 'SELECT 1', 'query_toks': ['SELECT', '1'], 'query_toks_no_value': ['select', '1'], 'question': 'What is the title of the most expensive book?', 'question_toks': ['what', 'is', 'title', 'of', 'most', 'expensive', 'book', '?'], 'sql': {'except': None, 'from': {'conds': [], 'table_units': [['table_unit', 1]]}, 'groupby': [], 'having': [], 'intersect': None, 'limit': None, 'orderby': [], 'select': [False, [[3, [0, [0, 0, False], None]]]], 'union': None, 'where': []}, 'names': ['*', 'publication id', 'book id', 'publisher', 'publication date', 'price', 'book id', 'title', 'issues', 'writer'], 'table_names': ['publication', 'book'], 'col_set': ['*', 'publication id', 'book id', 'publisher', 'publication date', 'price', 'title', 'issues', 'writer'], 'col_table': [-1, 0, 0, 0, 0, 0, 1, 1, 1, 1], 'keys': {'2': 6, '6': 6, '1': 1}, 'origin_question_toks': ['What', 'is', 'the', 'title', 'of', 'the', 'most', 'expensive', 'book', '?'], 'question_arg': [['what'], ['is'], ['title'], ['of'], ['most'], ['expensive'], ['book'], ['?']], 'question_arg_type': [['NONE'], ['NONE'], ['col'], ['NONE'], ['MOST'], ['NONE'], ['table'], ['NONE']], 'nltk_pos': [['what', 'WP'], ['is', 'VBZ'], ['title', 'NN'], ['of', 'IN'], ['most', 'JJS'], ['expensive', 'JJ'], ['book', 'NN'], ['?', '.']]}]\n",
      "[['what'], ['is'], ['column', 'title'], ['of'], ['most'], ['expensive'], ['table', 'book'], ['?']]\n",
      "['SELECT T1.Title FROM book AS T1 JOIN publication AS T2    ORDER BY T2.Price DESC LIMIT 1    ', 'SELECT T1.Title FROM book AS T1 JOIN publication AS T2    ORDER BY T2.Price DESC LIMIT 1    ', 'SELECT T1.Title FROM book AS T1 JOIN publication AS T2    ORDER BY T2.Price DESC LIMIT 1    ', 'SELECT T1.Title FROM book AS T1 JOIN publication AS T2    ORDER BY T2.Price DESC LIMIT 1    ', 'SELECT T1.Title FROM book AS T1 JOIN publication AS T2    ORDER BY T2.Price DESC LIMIT 1    ', 'SELECT T1.Title FROM book AS T1 JOIN publication AS T2    ORDER BY T2.Price DESC LIMIT 1    ', 'SELECT T1.Title FROM book AS T1 JOIN publication AS T2    ORDER BY T2.Price DESC LIMIT 1    ', 'SELECT T1.Title FROM book AS T1 JOIN publication AS T2    ORDER BY T2.Price DESC LIMIT 1    ', 'SELECT T1.Title FROM book AS T1 JOIN publication AS T2    ORDER BY T2.Price DESC LIMIT 1    ', 'SELECT T1.Title FROM book AS T1 JOIN publication AS T2    ORDER BY T2.Price DESC LIMIT 1    ']\n",
      "['SELECT T1.Title FROM ', '    ORDER BY T2.Price DESC LIMIT 1    '] [('book', 'T1', 'publication', 'T2')]\n",
      "('book', 'T1', 'publication', 'T2')\n",
      "SELECT T1.Title FROM book AS T1 JOIN publication AS T2 ON T1.Book_ID = T2.Book_ID    ORDER BY T2.Price DESC LIMIT 1    \n",
      "cp -r fdata /tmp/tmpn462vvx5lalala\n",
      "preprocess/run_me.sh /tmp/tmpn462vvx5lalala/tmp.json tables.json /tmp/tmpn462vvx5lalala/fdata/dev.json\n"
     ]
    },
    {
     "name": "stderr",
     "output_type": "stream",
     "text": [
      "119.3.148.45 - - [16/Jan/2020 07:07:28] \"GET /query?q=What+is+the+title+of+the+most+expensive+book%3F&db=book_2&last= HTTP/1.0\" 200 -\n"
     ]
    },
    {
     "name": "stdout",
     "output_type": "stream",
     "text": [
      "Loading from datasets...\n",
      "Loading data from /tmp/tmpn462vvx5lalala/fdata/tables.json\n",
      "Loading data from /tmp/tmpn462vvx5lalala/fdata/train.json\n",
      "Loading data from /tmp/tmpn462vvx5lalala/fdata/dev.json\n",
      "[{'db_id': 'book_2', 'query': 'SELECT 1', 'query_toks': ['SELECT', '1'], 'query_toks_no_value': ['select', '1'], 'question': 'What is the title of the most expensive book?', 'question_toks': ['what', 'is', 'title', 'of', 'most', 'expensive', 'book', '?'], 'sql': {'except': None, 'from': {'conds': [], 'table_units': [['table_unit', 1]]}, 'groupby': [], 'having': [], 'intersect': None, 'limit': None, 'orderby': [], 'select': [False, [[3, [0, [0, 0, False], None]]]], 'union': None, 'where': []}, 'names': ['*', 'publication id', 'book id', 'publisher', 'publication date', 'price', 'book id', 'title', 'issues', 'writer'], 'table_names': ['publication', 'book'], 'col_set': ['*', 'publication id', 'book id', 'publisher', 'publication date', 'price', 'title', 'issues', 'writer'], 'col_table': [-1, 0, 0, 0, 0, 0, 1, 1, 1, 1], 'keys': {'2': 6, '6': 6, '1': 1}, 'origin_question_toks': ['What', 'is', 'the', 'title', 'of', 'the', 'most', 'expensive', 'book', '?'], 'question_arg': [['what'], ['is'], ['title'], ['of'], ['most'], ['expensive'], ['book'], ['?']], 'question_arg_type': [['NONE'], ['NONE'], ['col'], ['NONE'], ['MOST'], ['NONE'], ['table'], ['NONE']], 'nltk_pos': [['what', 'WP'], ['is', 'VBZ'], ['title', 'NN'], ['of', 'IN'], ['most', 'JJS'], ['expensive', 'JJ'], ['book', 'NN'], ['?', '.']]}]\n",
      "[['what'], ['is'], ['column', 'title'], ['of'], ['most'], ['expensive'], ['table', 'book'], ['?']]\n",
      "['SELECT T1.Title FROM book AS T1 JOIN publication AS T2    ORDER BY T2.Price DESC LIMIT 1    ', 'SELECT T1.Title FROM book AS T1 JOIN publication AS T2    ORDER BY T2.Price DESC LIMIT 1    ', 'SELECT T1.Title FROM book AS T1 JOIN publication AS T2    ORDER BY T2.Price DESC LIMIT 1    ', 'SELECT T1.Title FROM book AS T1 JOIN publication AS T2    ORDER BY T2.Price DESC LIMIT 1    ', 'SELECT T1.Title FROM book AS T1 JOIN publication AS T2    ORDER BY T2.Price DESC LIMIT 1    ', 'SELECT T1.Title FROM book AS T1 JOIN publication AS T2    ORDER BY T2.Price DESC LIMIT 1    ', 'SELECT T1.Title FROM book AS T1 JOIN publication AS T2    ORDER BY T2.Price DESC LIMIT 1    ', 'SELECT T1.Title FROM book AS T1 JOIN publication AS T2    ORDER BY T2.Price DESC LIMIT 1    ', 'SELECT T1.Title FROM book AS T1 JOIN publication AS T2    ORDER BY T2.Price DESC LIMIT 1    ', 'SELECT T1.Title FROM book AS T1 JOIN publication AS T2    ORDER BY T2.Price DESC LIMIT 1    ']\n",
      "['SELECT T1.Title FROM ', '    ORDER BY T2.Price DESC LIMIT 1    '] [('book', 'T1', 'publication', 'T2')]\n",
      "('book', 'T1', 'publication', 'T2')\n",
      "SELECT T1.Title FROM book AS T1 JOIN publication AS T2 ON T1.Book_ID = T2.Book_ID    ORDER BY T2.Price DESC LIMIT 1    \n",
      "cp -r fdata /tmp/tmp0mup5rptlalala\n",
      "preprocess/run_me.sh /tmp/tmp0mup5rptlalala/tmp.json tables.json /tmp/tmp0mup5rptlalala/fdata/dev.json\n"
     ]
    },
    {
     "name": "stderr",
     "output_type": "stream",
     "text": [
      "119.3.148.45 - - [16/Jan/2020 07:34:25] \"GET /query?q=Show+me+the+student+name+with+highest+GPA%3F&db=college_1&last= HTTP/1.0\" 200 -\n"
     ]
    },
    {
     "name": "stdout",
     "output_type": "stream",
     "text": [
      "Loading from datasets...\n",
      "Loading data from /tmp/tmp0mup5rptlalala/fdata/tables.json\n",
      "Loading data from /tmp/tmp0mup5rptlalala/fdata/train.json\n",
      "Loading data from /tmp/tmp0mup5rptlalala/fdata/dev.json\n",
      "[{'db_id': 'college_1', 'query': 'SELECT 1', 'query_toks': ['SELECT', '1'], 'query_toks_no_value': ['select', '1'], 'question': 'Show me the student name with highest GPA?', 'question_toks': ['show', 'me', 'student', 'name', 'with', 'highest', 'gpa', '?'], 'sql': {'except': None, 'from': {'conds': [], 'table_units': [['table_unit', 1]]}, 'groupby': [], 'having': [], 'intersect': None, 'limit': None, 'orderby': [], 'select': [False, [[3, [0, [0, 0, False], None]]]], 'union': None, 'where': []}, 'names': ['*', 'class code', 'course code', 'class section', 'class time', 'class room', 'professor employee number', 'course code', 'department code', 'course description', 'course credit', 'department code', 'department name', 'school code', 'employee number', 'department address', 'department extension', 'employee number', 'employee last name', 'employee first name', 'employee initial', 'employee job code', 'employee hire date', 'employee date of birth', 'class code', 'student number', 'enroll grade', 'employee number', 'department code', 'professor office', 'professor extension', 'professor high degree', 'student num', 'student last name', 'student first name', 'student init', 'student date of birth', 'student class hours took', 'student class', 'student gpa', 'student transfer', 'department code', 'student phone', 'professor number'], 'table_names': ['class', 'course', 'department', 'employee', 'enroll', 'professor', 'student'], 'col_set': ['*', 'class code', 'course code', 'class section', 'class time', 'class room', 'professor employee number', 'department code', 'course description', 'course credit', 'department name', 'school code', 'employee number', 'department address', 'department extension', 'employee last name', 'employee first name', 'employee initial', 'employee job code', 'employee hire date', 'employee date of birth', 'student number', 'enroll grade', 'professor office', 'professor extension', 'professor high degree', 'student num', 'student last name', 'student first name', 'student init', 'student date of birth', 'student class hours took', 'student class', 'student gpa', 'student transfer', 'student phone', 'professor number'], 'col_table': [-1, 0, 0, 0, 0, 0, 0, 1, 1, 1, 1, 2, 2, 2, 2, 2, 2, 3, 3, 3, 3, 3, 3, 3, 4, 4, 4, 5, 5, 5, 5, 5, 6, 6, 6, 6, 6, 6, 6, 6, 6, 6, 6, 6], 'keys': {'6': 17, '17': 17, '2': 7, '7': 7, '8': 11, '11': 11, '14': 17, '25': 32, '32': 32, '24': 1, '1': 1, '28': 11, '27': 17, '41': 11}, 'origin_question_toks': ['Show', 'me', 'the', 'student', 'name', 'with', 'highest', 'GPA', '?'], 'question_arg': [['show'], ['me'], ['student'], ['name'], ['with'], ['highest'], ['gpa'], ['?']], 'question_arg_type': [['NONE'], ['NONE'], ['table'], ['NONE'], ['NONE'], ['MOST'], ['NONE'], ['NONE']], 'nltk_pos': [['show', 'VB'], ['me', 'PRP'], ['student', 'JJ'], ['name', 'NN'], ['with', 'IN'], ['highest', 'JJS'], ['gpa', 'NN'], ['?', '.']]}]\n",
      "[['show'], ['me'], ['table', 'student'], ['name'], ['with'], ['highest'], ['gpa'], ['?']]\n",
      "['SELECT T1.STU_FNAME FROM STUDENT AS T1    ORDER BY T1.STU_GPA DESC LIMIT 1    ', 'SELECT T1.STU_FNAME FROM STUDENT AS T1    ORDER BY T1.STU_GPA DESC LIMIT 1    ', 'SELECT T1.STU_FNAME FROM STUDENT AS T1    ORDER BY T1.STU_GPA DESC LIMIT 1    ', 'SELECT T1.STU_FNAME FROM STUDENT AS T1    ORDER BY T1.STU_GPA DESC LIMIT 1    ', 'SELECT T1.STU_FNAME FROM STUDENT AS T1    ORDER BY T1.STU_GPA DESC LIMIT 1    ', 'SELECT T1.STU_FNAME FROM STUDENT AS T1    ORDER BY T1.STU_GPA DESC LIMIT 1    ', 'SELECT T1.STU_FNAME FROM STUDENT AS T1    ORDER BY T1.STU_GPA DESC LIMIT 1    ', 'SELECT T1.STU_FNAME FROM STUDENT AS T1    ORDER BY T1.STU_GPA DESC LIMIT 1    ', 'SELECT T1.STU_FNAME FROM STUDENT AS T1    ORDER BY T1.STU_GPA DESC LIMIT 1    ', 'SELECT T1.STU_FNAME FROM STUDENT AS T1    ORDER BY T1.STU_GPA DESC LIMIT 1    ']\n",
      "['SELECT T1.STU_FNAME FROM STUDENT AS T1    ORDER BY T1.STU_GPA DESC LIMIT 1    '] []\n",
      "SELECT T1.STU_FNAME FROM STUDENT AS T1    ORDER BY T1.STU_GPA DESC LIMIT 1    \n"
     ]
    }
   ],
   "source": [
    "from flask import Flask\n",
    "from flask import request, jsonify\n",
    "from flask_cors import CORS\n",
    "\n",
    "app = Flask(__name__)\n",
    "CORS(app)\n",
    "\n",
    "@app.route('/')\n",
    "def hello_world():\n",
    "    return 'Hello, World!'\n",
    "\n",
    "@app.route('/query')\n",
    "def query():\n",
    "    q = request.args.get('q')\n",
    "    db = request.args.get('db')\n",
    "#     last = request.args.get('last', '')\n",
    "    \n",
    "    sql, val = e2e_execute_demo(q, db_id=db, last='')\n",
    "    try:\n",
    "        return jsonify({\n",
    "            \"data\": json.loads(val.to_json(orient='records')),\n",
    "            \"sql\": sql\n",
    "        })\n",
    "    except:\n",
    "        return jsonify({\n",
    "            \"data\": [],\n",
    "            \"sql\": ''\n",
    "        })\n",
    "\n",
    "app.run(host='0.0.0.0', port=443)"
   ]
  },
  {
   "cell_type": "code",
   "execution_count": null,
   "metadata": {},
   "outputs": [],
   "source": []
  }
 ],
 "metadata": {
  "kernelspec": {
   "display_name": "Python [conda env:py36_torch120] *",
   "language": "python",
   "name": "conda-env-py36_torch120-py"
  },
  "language_info": {
   "codemirror_mode": {
    "name": "ipython",
    "version": 3
   },
   "file_extension": ".py",
   "mimetype": "text/x-python",
   "name": "python",
   "nbconvert_exporter": "python",
   "pygments_lexer": "ipython3",
   "version": "3.6.10"
  }
 },
 "nbformat": 4,
 "nbformat_minor": 4
}
