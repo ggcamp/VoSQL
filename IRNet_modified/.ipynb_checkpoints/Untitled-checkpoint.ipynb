{
 "cells": [
  {
   "cell_type": "code",
   "execution_count": 1,
   "metadata": {},
   "outputs": [
    {
     "name": "stdout",
     "output_type": "stream",
     "text": [
      "tensor([[[-0.0109,  0.3954,  0.0721,  ..., -0.1103,  0.1125, -0.1365],\n",
      "         [ 1.1004,  0.9464,  0.1840,  ...,  0.1780,  0.3401, -0.4657],\n",
      "         [-0.4478,  0.3136,  0.7954,  ...,  0.4870,  0.0566, -0.7414],\n",
      "         ...,\n",
      "         [ 0.8361,  0.2446, -0.0995,  ...,  0.0272, -0.7505, -0.3933],\n",
      "         [-0.4270,  0.1904,  0.4622,  ...,  0.2226,  0.4807, -0.3559],\n",
      "         [ 0.8353,  0.2419, -0.1057,  ...,  0.0293, -0.7484, -0.3926]]],\n",
      "       grad_fn=<NativeLayerNormBackward>) torch.Size([1, 9, 768])\n"
     ]
    }
   ],
   "source": [
    "import torch\n",
    "from transformers import BertTokenizer, BertModel\n",
    "\n",
    "tokenizer = BertTokenizer.from_pretrained('bert-base-uncased')\n",
    "model = BertModel.from_pretrained('bert-base-uncased')\n",
    "\n",
    "a = tokenizer.convert_tokens_to_ids(tokenizer.tokenize(\"[CLS] Fuck you all [SEP] all [SEP] all [SEP]\"))\n",
    "a = torch.tensor([a])\n",
    "\n",
    "embedding = model(a)[0]\n",
    "print(embedding, embedding.shape)\n",
    "# [batch_size, max_len, 768]"
   ]
  }
 ],
 "metadata": {
  "kernelspec": {
   "display_name": "python3.6",
   "language": "python",
   "name": "python3.6"
  },
  "language_info": {
   "codemirror_mode": {
    "name": "ipython",
    "version": 3
   },
   "file_extension": ".py",
   "mimetype": "text/x-python",
   "name": "python",
   "nbconvert_exporter": "python",
   "pygments_lexer": "ipython3",
   "version": "3.6.10"
  }
 },
 "nbformat": 4,
 "nbformat_minor": 4
}
